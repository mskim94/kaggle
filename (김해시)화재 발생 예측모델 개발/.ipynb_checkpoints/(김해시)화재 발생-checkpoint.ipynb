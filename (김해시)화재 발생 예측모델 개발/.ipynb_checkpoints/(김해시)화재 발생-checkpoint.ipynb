{
 "cells": [
  {
   "cell_type": "markdown",
   "metadata": {},
   "source": [
    "# 화재발생 예측모델 개발\n",
    "\n",
    "## 배경\n",
    "김해지역은 화재가 계절 및 장소 등에 관계 없이 잇따라 발생하고 있어 시민의 인명과 재산의 피해를 줄이기 위한 다양한 대책이 요구됨\n",
    "\n",
    "## 목적\n",
    "김해시에서는 소방 및 건물관련 정보를 융합하여 지역 내 화재 위험도에 대해 분석 및 예측하고 이를 이용하여 화재에 대한 집중적이고 적극적인 예방활동을 수행\n",
    "\n",
    "## 해결과제\n",
    "김해시가 수집한 소방 및 건물 관련 데이터를 활용하여 **건축물의 화재 위험도 분석** 및 **예측 모델 제시**\n",
    "\n",
    "\n",
    "### 주어진 데이터 파일\n",
    "- train.csv: 경상남도 지역\n",
    "- validation.csv: 김해시 지역으로 한정\n",
    "- test.csv: 김해시 지역 한정\n",
    "\n",
    "(train set 은 김해시를 제외한 경남지역, validation, test set은 김해시 지역)\n",
    "https://compas.lh.or.kr/subj/past/data?subjNo=SBJ_1910_002"
   ]
  },
  {
   "cell_type": "code",
   "execution_count": 104,
   "metadata": {},
   "outputs": [],
   "source": [
    "import os\n",
    "import numpy as np\n",
    "import pandas as pd\n",
    "import matplotlib.pyplot as plt\n",
    "import seaborn as sns\n",
    "from sklearn.preprocessing import StandardScaler\n",
    "import re"
   ]
  },
  {
   "cell_type": "markdown",
   "metadata": {},
   "source": [
    "## LOAD DATA"
   ]
  },
  {
   "cell_type": "code",
   "execution_count": 105,
   "metadata": {},
   "outputs": [
    {
     "name": "stderr",
     "output_type": "stream",
     "text": [
      "/home/minsungkim/anaconda3/lib/python3.7/site-packages/IPython/core/interactiveshell.py:3146: DtypeWarning: Columns (8,172,173,174,175,176,177,178,179) have mixed types.Specify dtype option on import or set low_memory=False.\n",
      "  interactivity=interactivity, compiler=compiler, result=result)\n"
     ]
    }
   ],
   "source": [
    "DATA_PATH = \"./SBJ_1910_002/\"\n",
    "TRAIN_FILENAME = \"train.csv\"\n",
    "TEST_FILENAME = \"test.csv\"\n",
    "VAL_FILENAME = \"validation.csv\"\n",
    "train_df = pd.read_csv(os.path.join(DATA_PATH, TRAIN_FILENAME))\n",
    "test_df = pd.read_csv(os.path.join(DATA_PATH, TEST_FILENAME))\n",
    "val_df = pd.read_csv(os.path.join(DATA_PATH, VAL_FILENAME))"
   ]
  },
  {
   "cell_type": "code",
   "execution_count": 106,
   "metadata": {},
   "outputs": [
    {
     "data": {
      "text/plain": [
       "((59199, 180), (2957, 180), (6898, 180))"
      ]
     },
     "execution_count": 106,
     "metadata": {},
     "output_type": "execute_result"
    }
   ],
   "source": [
    "train_df.shape, test_df.shape, val_df.shape"
   ]
  },
  {
   "cell_type": "markdown",
   "metadata": {},
   "source": [
    "홈페이지 상의 컬럼의 개수는 63개이다. 실제 데이터에서는 180개.\n",
    "\n",
    "결국 예측해야 하는 것은 **fr_yn**인 화재 발생 여부를 예측해야 한다."
   ]
  },
  {
   "cell_type": "code",
   "execution_count": 107,
   "metadata": {},
   "outputs": [
    {
     "data": {
      "text/html": [
       "<div>\n",
       "<style scoped>\n",
       "    .dataframe tbody tr th:only-of-type {\n",
       "        vertical-align: middle;\n",
       "    }\n",
       "\n",
       "    .dataframe tbody tr th {\n",
       "        vertical-align: top;\n",
       "    }\n",
       "\n",
       "    .dataframe thead th {\n",
       "        text-align: right;\n",
       "    }\n",
       "</style>\n",
       "<table border=\"1\" class=\"dataframe\">\n",
       "  <thead>\n",
       "    <tr style=\"text-align: right;\">\n",
       "      <th></th>\n",
       "      <th>dt_of_fr</th>\n",
       "      <th>fr_yn</th>\n",
       "      <th>bldng_us</th>\n",
       "      <th>bldng_archtctr</th>\n",
       "      <th>bldng_cnt</th>\n",
       "      <th>bldng_ar</th>\n",
       "      <th>ttl_ar</th>\n",
       "      <th>lnd_ar</th>\n",
       "      <th>dt_of_athrztn</th>\n",
       "      <th>ttl_grnd_flr</th>\n",
       "      <th>...</th>\n",
       "      <th>no_tbc_zn_dstnc</th>\n",
       "      <th>bldng_cnt_in_50m</th>\n",
       "      <th>trgt_crtr</th>\n",
       "      <th>fr_fghtng_fclt_spcl_css_5_yn</th>\n",
       "      <th>fr_fghtng_fclt_spcl_css_6_yn</th>\n",
       "      <th>us_yn</th>\n",
       "      <th>dngrs_thng_yn</th>\n",
       "      <th>slf_fr_brgd_yn</th>\n",
       "      <th>blk_dngrs_thng_mnfctr_yn</th>\n",
       "      <th>cltrl_hrtg_yn</th>\n",
       "    </tr>\n",
       "  </thead>\n",
       "  <tbody>\n",
       "    <tr>\n",
       "      <th>0</th>\n",
       "      <td>2017-10-20 05:54</td>\n",
       "      <td>Y</td>\n",
       "      <td>단독주택</td>\n",
       "      <td>블록구조</td>\n",
       "      <td>3</td>\n",
       "      <td>69.42</td>\n",
       "      <td>69.42</td>\n",
       "      <td>0.0</td>\n",
       "      <td>1977</td>\n",
       "      <td>1.0</td>\n",
       "      <td>...</td>\n",
       "      <td>88</td>\n",
       "      <td>0</td>\n",
       "      <td>NaN</td>\n",
       "      <td>NaN</td>\n",
       "      <td>NaN</td>\n",
       "      <td>NaN</td>\n",
       "      <td>NaN</td>\n",
       "      <td>NaN</td>\n",
       "      <td>NaN</td>\n",
       "      <td>NaN</td>\n",
       "    </tr>\n",
       "    <tr>\n",
       "      <th>1</th>\n",
       "      <td>2018-09-30 08:26</td>\n",
       "      <td>N</td>\n",
       "      <td>NaN</td>\n",
       "      <td>NaN</td>\n",
       "      <td>3</td>\n",
       "      <td>46.29</td>\n",
       "      <td>46.29</td>\n",
       "      <td>0.0</td>\n",
       "      <td>NaN</td>\n",
       "      <td>1.0</td>\n",
       "      <td>...</td>\n",
       "      <td>7727</td>\n",
       "      <td>0</td>\n",
       "      <td>NaN</td>\n",
       "      <td>NaN</td>\n",
       "      <td>NaN</td>\n",
       "      <td>NaN</td>\n",
       "      <td>NaN</td>\n",
       "      <td>NaN</td>\n",
       "      <td>NaN</td>\n",
       "      <td>NaN</td>\n",
       "    </tr>\n",
       "    <tr>\n",
       "      <th>2</th>\n",
       "      <td>2016-10-30 14:57</td>\n",
       "      <td>Y</td>\n",
       "      <td>공동주택</td>\n",
       "      <td>철근콘크리트구조</td>\n",
       "      <td>1</td>\n",
       "      <td>583.80</td>\n",
       "      <td>2516.76</td>\n",
       "      <td>1446.0</td>\n",
       "      <td>2.00011e+07</td>\n",
       "      <td>5.0</td>\n",
       "      <td>...</td>\n",
       "      <td>72</td>\n",
       "      <td>14</td>\n",
       "      <td>NaN</td>\n",
       "      <td>NaN</td>\n",
       "      <td>NaN</td>\n",
       "      <td>NaN</td>\n",
       "      <td>NaN</td>\n",
       "      <td>NaN</td>\n",
       "      <td>NaN</td>\n",
       "      <td>NaN</td>\n",
       "    </tr>\n",
       "    <tr>\n",
       "      <th>3</th>\n",
       "      <td>2016-06-14 05:23</td>\n",
       "      <td>N</td>\n",
       "      <td>단독주택</td>\n",
       "      <td>일반목구조</td>\n",
       "      <td>2</td>\n",
       "      <td>48.92</td>\n",
       "      <td>48.92</td>\n",
       "      <td>0.0</td>\n",
       "      <td>1936</td>\n",
       "      <td>1.0</td>\n",
       "      <td>...</td>\n",
       "      <td>508</td>\n",
       "      <td>11</td>\n",
       "      <td>NaN</td>\n",
       "      <td>NaN</td>\n",
       "      <td>NaN</td>\n",
       "      <td>NaN</td>\n",
       "      <td>NaN</td>\n",
       "      <td>NaN</td>\n",
       "      <td>NaN</td>\n",
       "      <td>NaN</td>\n",
       "    </tr>\n",
       "    <tr>\n",
       "      <th>4</th>\n",
       "      <td>2018-04-22 05:38</td>\n",
       "      <td>N</td>\n",
       "      <td>NaN</td>\n",
       "      <td>NaN</td>\n",
       "      <td>2</td>\n",
       "      <td>0.00</td>\n",
       "      <td>0.00</td>\n",
       "      <td>0.0</td>\n",
       "      <td>NaN</td>\n",
       "      <td>NaN</td>\n",
       "      <td>...</td>\n",
       "      <td>707</td>\n",
       "      <td>0</td>\n",
       "      <td>NaN</td>\n",
       "      <td>NaN</td>\n",
       "      <td>NaN</td>\n",
       "      <td>NaN</td>\n",
       "      <td>NaN</td>\n",
       "      <td>NaN</td>\n",
       "      <td>NaN</td>\n",
       "      <td>NaN</td>\n",
       "    </tr>\n",
       "  </tbody>\n",
       "</table>\n",
       "<p>5 rows × 180 columns</p>\n",
       "</div>"
      ],
      "text/plain": [
       "           dt_of_fr fr_yn bldng_us bldng_archtctr  bldng_cnt  bldng_ar  \\\n",
       "0  2017-10-20 05:54     Y     단독주택           블록구조          3     69.42   \n",
       "1  2018-09-30 08:26     N      NaN            NaN          3     46.29   \n",
       "2  2016-10-30 14:57     Y     공동주택       철근콘크리트구조          1    583.80   \n",
       "3  2016-06-14 05:23     N     단독주택          일반목구조          2     48.92   \n",
       "4  2018-04-22 05:38     N      NaN            NaN          2      0.00   \n",
       "\n",
       "    ttl_ar  lnd_ar dt_of_athrztn  ttl_grnd_flr  ...  no_tbc_zn_dstnc  \\\n",
       "0    69.42     0.0          1977           1.0  ...               88   \n",
       "1    46.29     0.0           NaN           1.0  ...             7727   \n",
       "2  2516.76  1446.0   2.00011e+07           5.0  ...               72   \n",
       "3    48.92     0.0          1936           1.0  ...              508   \n",
       "4     0.00     0.0           NaN           NaN  ...              707   \n",
       "\n",
       "  bldng_cnt_in_50m  trgt_crtr  fr_fghtng_fclt_spcl_css_5_yn  \\\n",
       "0                0        NaN                           NaN   \n",
       "1                0        NaN                           NaN   \n",
       "2               14        NaN                           NaN   \n",
       "3               11        NaN                           NaN   \n",
       "4                0        NaN                           NaN   \n",
       "\n",
       "   fr_fghtng_fclt_spcl_css_6_yn  us_yn  dngrs_thng_yn  slf_fr_brgd_yn  \\\n",
       "0                           NaN    NaN            NaN             NaN   \n",
       "1                           NaN    NaN            NaN             NaN   \n",
       "2                           NaN    NaN            NaN             NaN   \n",
       "3                           NaN    NaN            NaN             NaN   \n",
       "4                           NaN    NaN            NaN             NaN   \n",
       "\n",
       "   blk_dngrs_thng_mnfctr_yn  cltrl_hrtg_yn  \n",
       "0                       NaN            NaN  \n",
       "1                       NaN            NaN  \n",
       "2                       NaN            NaN  \n",
       "3                       NaN            NaN  \n",
       "4                       NaN            NaN  \n",
       "\n",
       "[5 rows x 180 columns]"
      ]
     },
     "execution_count": 107,
     "metadata": {},
     "output_type": "execute_result"
    }
   ],
   "source": [
    "train_df.head()"
   ]
  },
  {
   "cell_type": "code",
   "execution_count": 108,
   "metadata": {},
   "outputs": [
    {
     "name": "stdout",
     "output_type": "stream",
     "text": [
      "length of columns:  180\n",
      "Index(['dt_of_fr', 'fr_yn', 'bldng_us', 'bldng_archtctr', 'bldng_cnt',\n",
      "       'bldng_ar', 'ttl_ar', 'lnd_ar', 'dt_of_athrztn', 'ttl_grnd_flr',\n",
      "       ...\n",
      "       'no_tbc_zn_dstnc', 'bldng_cnt_in_50m', 'trgt_crtr',\n",
      "       'fr_fghtng_fclt_spcl_css_5_yn', 'fr_fghtng_fclt_spcl_css_6_yn', 'us_yn',\n",
      "       'dngrs_thng_yn', 'slf_fr_brgd_yn', 'blk_dngrs_thng_mnfctr_yn',\n",
      "       'cltrl_hrtg_yn'],\n",
      "      dtype='object', length=180)\n"
     ]
    }
   ],
   "source": [
    "print(\"length of columns: \", len(train_df.columns))\n",
    "print(train_df.columns)"
   ]
  },
  {
   "cell_type": "markdown",
   "metadata": {},
   "source": [
    "## Preprocessing"
   ]
  },
  {
   "cell_type": "code",
   "execution_count": 109,
   "metadata": {},
   "outputs": [
    {
     "data": {
      "text/plain": [
       "True"
      ]
     },
     "execution_count": 109,
     "metadata": {},
     "output_type": "execute_result"
    }
   ],
   "source": [
    "(train_df.shape[1], test_df.shape[1], val_df.shape[1]) == (180, 180, 180)"
   ]
  },
  {
   "cell_type": "code",
   "execution_count": 110,
   "metadata": {},
   "outputs": [
    {
     "name": "stdout",
     "output_type": "stream",
     "text": [
      "number of original df columns: 180\n"
     ]
    }
   ],
   "source": [
    "# train_df.shape[1], test_df.shape[1], val_df.shape[1] == 180\n",
    "# 전체 설명이 있는 컬럼은 62개 (id 포함)\n",
    "\n",
    "og_col_li = train_df.columns\n",
    "print(\"number of original df columns:\", len(og_col_li))"
   ]
  },
  {
   "cell_type": "code",
   "execution_count": 111,
   "metadata": {},
   "outputs": [],
   "source": [
    "need_li = [\"id\",\n",
    "\"dt_of_fr\",\n",
    "\"fr_yn\",\n",
    "\"bldng_us\",\n",
    "\"bldng_archtctr\",\n",
    "\"bldng_cnt\",\n",
    "\"bldng_ar\",\n",
    "\"ttl_ar\",\n",
    "\"lnd_ar\",\n",
    "\"dt_of_athrztn\",\n",
    "\"ttl_grnd_flr\",\n",
    "\"ttl_dwn_flr\",\n",
    "\"bldng_us_clssfctn\",\n",
    "\"tmprtr\",\n",
    "\"prcpttn\",\n",
    "\"wnd_spd\",\n",
    "\"wnd_drctn\",\n",
    "\"hmdt\",\n",
    "\"ele_engry_us_201401\",\n",
    "\"ele_engry_us_201812\",\n",
    "\"gas_engry_us_201401\",\n",
    "\"gas_engry_us_201812\",\n",
    "\"lw_13101010\",\n",
    "\"lw_13101110\",\n",
    "\"lw_13101210\",\n",
    "\"lw_13101211\",\n",
    "\"lw_13101310\",\n",
    "\"lw_13111010\",\n",
    "\"lw_13101410\",           \n",
    "\"lw_13111110\",\n",
    "\"lw_13121010\",\n",
    "\"lw_13121011\",\n",
    "\"lw_13131010\",\n",
    "\"lw_13131110\",\n",
    "\"lw_13141010\",\n",
    "\"lw_13141011\",\n",
    "\"jmk\",\n",
    "\"rgnl_ar_nm\",\n",
    "\"rgnl_ar_nm2\",\n",
    "\"lnd_us_sttn_nm\",\n",
    "\"rd_sd_nm\",\n",
    "\"emd_nm\",\n",
    "\"hm_cnt\",\n",
    "\"fr_sttn_dstnc\",\n",
    "\"bldng_ar_prc\",\n",
    "\"fr_wthr_fclt_dstnc\",\n",
    "\"fr_mn_cnt\",\n",
    "\"mlt_us_yn\",\n",
    "\"cctv_dstnc\",\n",
    "\"cctv_in_100m\",\n",
    "\"fr_wthr_fclt_in_100m\",\n",
    "\"tbc_rtl_str_dstnc\",\n",
    "\"sft_emrgnc_bll_dstnc\",\n",
    "\"ahsm_dstnc\",\n",
    "\"no_tbc_zn_dstnc\",\n",
    "\"trgt_crtr\",\n",
    "\"fr_fghtng_fclt_spcl_css_5_yn\",\n",
    "\"fr_fghtng_fclt_spcl_css_6_yn\",\n",
    "\"us_yn\",\n",
    "\"dngrs_thng_yn\",\n",
    "\"slf_fr_brgd_yn\",\n",
    "\"blk_dngrs_thng_mnfctr_yn\",\n",
    "\"cltrl_hrtg_yn\"]"
   ]
  },
  {
   "cell_type": "code",
   "execution_count": 112,
   "metadata": {},
   "outputs": [
    {
     "name": "stdout",
     "output_type": "stream",
     "text": [
      "number of sub list: 117\n",
      "number of need list: 63\n",
      "180\n"
     ]
    }
   ],
   "source": [
    "sub_li = [col for col in og_col_li.tolist() if col not in need_li]\n",
    "print(\"number of sub list:\", len(sub_li))\n",
    "print(\"number of need list:\", len(need_li))\n",
    "print(len(sub_li) + len(need_li))"
   ]
  },
  {
   "cell_type": "code",
   "execution_count": 113,
   "metadata": {},
   "outputs": [
    {
     "name": "stdout",
     "output_type": "stream",
     "text": [
      "['gas_engry_us_201402', 'ele_engry_us_201402', 'gas_engry_us_201403', 'ele_engry_us_201403', 'gas_engry_us_201404', 'ele_engry_us_201404', 'gas_engry_us_201405', 'ele_engry_us_201405', 'gas_engry_us_201406', 'ele_engry_us_201406', 'gas_engry_us_201407', 'ele_engry_us_201407', 'gas_engry_us_201408', 'ele_engry_us_201408', 'gas_engry_us_201409', 'ele_engry_us_201409', 'gas_engry_us_201410', 'ele_engry_us_201410', 'gas_engry_us_201411', 'ele_engry_us_201411', 'gas_engry_us_201412', 'ele_engry_us_201412', 'gas_engry_us_201501', 'ele_engry_us_201501', 'gas_engry_us_201502', 'ele_engry_us_201502', 'gas_engry_us_201503', 'ele_engry_us_201503', 'gas_engry_us_201504', 'ele_engry_us_201504', 'gas_engry_us_201505', 'ele_engry_us_201505', 'gas_engry_us_201506', 'ele_engry_us_201506', 'gas_engry_us_201507', 'ele_engry_us_201507', 'gas_engry_us_201508', 'ele_engry_us_201508', 'gas_engry_us_201509', 'ele_engry_us_201509', 'gas_engry_us_201510', 'ele_engry_us_201510', 'gas_engry_us_201511', 'ele_engry_us_201511', 'gas_engry_us_201512', 'ele_engry_us_201512', 'gas_engry_us_201601', 'ele_engry_us_201601', 'gas_engry_us_201602', 'ele_engry_us_201602', 'gas_engry_us_201603', 'ele_engry_us_201603', 'gas_engry_us_201604', 'ele_engry_us_201604', 'gas_engry_us_201605', 'ele_engry_us_201605', 'gas_engry_us_201606', 'ele_engry_us_201606', 'gas_engry_us_201607', 'ele_engry_us_201607', 'gas_engry_us_201608', 'ele_engry_us_201608', 'gas_engry_us_201609', 'ele_engry_us_201609', 'gas_engry_us_201610', 'ele_engry_us_201610', 'gas_engry_us_201611', 'ele_engry_us_201611', 'gas_engry_us_201612', 'ele_engry_us_201612', 'gas_engry_us_201701', 'ele_engry_us_201701', 'gas_engry_us_201702', 'ele_engry_us_201702', 'gas_engry_us_201703', 'ele_engry_us_201703', 'gas_engry_us_201704', 'ele_engry_us_201704', 'gas_engry_us_201705', 'ele_engry_us_201705', 'gas_engry_us_201706', 'ele_engry_us_201706', 'gas_engry_us_201707', 'ele_engry_us_201707', 'gas_engry_us_201708', 'ele_engry_us_201708', 'gas_engry_us_201709', 'ele_engry_us_201709', 'gas_engry_us_201710', 'ele_engry_us_201710', 'gas_engry_us_201711', 'ele_engry_us_201711', 'gas_engry_us_201712', 'ele_engry_us_201712', 'gas_engry_us_201801', 'ele_engry_us_201801', 'gas_engry_us_201802', 'ele_engry_us_201802', 'gas_engry_us_201803', 'ele_engry_us_201803', 'gas_engry_us_201804', 'ele_engry_us_201804', 'gas_engry_us_201805', 'ele_engry_us_201805', 'gas_engry_us_201806', 'ele_engry_us_201806', 'gas_engry_us_201807', 'ele_engry_us_201807', 'gas_engry_us_201808', 'ele_engry_us_201808', 'gas_engry_us_201809', 'ele_engry_us_201809', 'gas_engry_us_201810', 'ele_engry_us_201810', 'gas_engry_us_201811', 'ele_engry_us_201811', 'bldng_cnt_in_50m']\n"
     ]
    }
   ],
   "source": [
    "# 118 columns : 시기별 (201402 ~ 201811) 전기, 가스 사용량이다. \n",
    "print(sub_li)"
   ]
  },
  {
   "cell_type": "code",
   "execution_count": 114,
   "metadata": {},
   "outputs": [],
   "source": [
    "# Save the 'Id' column\n",
    "train_id = train_df[\"id\"]\n",
    "test_id = test_df[\"id\"]\n",
    "val_id = val_df[\"id\"]\n",
    "# Drop the \"Id\" column since it's not necessary for the prediction.\n",
    "train_df.drop(\"id\", axis=1, inplace=True)\n",
    "test_df.drop(\"id\", axis=1, inplace=True)\n",
    "val_df.drop(\"id\", axis=1, inplace=True)"
   ]
  },
  {
   "cell_type": "code",
   "execution_count": 115,
   "metadata": {},
   "outputs": [
    {
     "name": "stdout",
     "output_type": "stream",
     "text": [
      "(59199, 179) (2957, 179) (6898, 179)\n",
      "0 0\n",
      "2957 2957\n"
     ]
    }
   ],
   "source": [
    "print(train_df.shape, test_df.shape, val_df.shape)\n",
    "\n",
    "# train, val_df의 fr_yn은 모두 존재\n",
    "print(train_df.fr_yn.isnull().sum(), val_df.fr_yn.isnull().sum())\n",
    "\n",
    "# test_df.fr_yn, 예측해야 하는 값이므로 모두 비어 있다.\n",
    "print(test_df.shape[0], test_df.fr_yn.isnull().sum())"
   ]
  },
  {
   "cell_type": "code",
   "execution_count": 116,
   "metadata": {},
   "outputs": [
    {
     "name": "stdout",
     "output_type": "stream",
     "text": [
      "all_df size is : (69054, 178)\n"
     ]
    }
   ],
   "source": [
    "# 전체 전처리 이후 나누기 위한 위치를 저장\n",
    "ntrain = train_df.shape[0]\n",
    "ntest = test_df.shape[0]\n",
    "nval = val_df.shape[0]\n",
    "\n",
    "y_train = train_df.fr_yn.values\n",
    "all_df = pd.concat((train_df, val_df, test_df)).reset_index(drop=True)\n",
    "all_df.drop([\"fr_yn\"], axis=1, inplace=True)\n",
    "print(\"all_df size is : {}\".format(all_df.shape))"
   ]
  },
  {
   "cell_type": "code",
   "execution_count": 117,
   "metadata": {},
   "outputs": [
    {
     "data": {
      "text/html": [
       "<div>\n",
       "<style scoped>\n",
       "    .dataframe tbody tr th:only-of-type {\n",
       "        vertical-align: middle;\n",
       "    }\n",
       "\n",
       "    .dataframe tbody tr th {\n",
       "        vertical-align: top;\n",
       "    }\n",
       "\n",
       "    .dataframe thead th {\n",
       "        text-align: right;\n",
       "    }\n",
       "</style>\n",
       "<table border=\"1\" class=\"dataframe\">\n",
       "  <thead>\n",
       "    <tr style=\"text-align: right;\">\n",
       "      <th></th>\n",
       "      <th>dt_of_fr</th>\n",
       "      <th>bldng_us</th>\n",
       "      <th>bldng_archtctr</th>\n",
       "      <th>bldng_cnt</th>\n",
       "      <th>bldng_ar</th>\n",
       "      <th>ttl_ar</th>\n",
       "      <th>lnd_ar</th>\n",
       "      <th>dt_of_athrztn</th>\n",
       "      <th>ttl_grnd_flr</th>\n",
       "      <th>ttl_dwn_flr</th>\n",
       "      <th>...</th>\n",
       "      <th>no_tbc_zn_dstnc</th>\n",
       "      <th>bldng_cnt_in_50m</th>\n",
       "      <th>trgt_crtr</th>\n",
       "      <th>fr_fghtng_fclt_spcl_css_5_yn</th>\n",
       "      <th>fr_fghtng_fclt_spcl_css_6_yn</th>\n",
       "      <th>us_yn</th>\n",
       "      <th>dngrs_thng_yn</th>\n",
       "      <th>slf_fr_brgd_yn</th>\n",
       "      <th>blk_dngrs_thng_mnfctr_yn</th>\n",
       "      <th>cltrl_hrtg_yn</th>\n",
       "    </tr>\n",
       "  </thead>\n",
       "  <tbody>\n",
       "    <tr>\n",
       "      <th>0</th>\n",
       "      <td>2017-10-20 05:54</td>\n",
       "      <td>단독주택</td>\n",
       "      <td>블록구조</td>\n",
       "      <td>3</td>\n",
       "      <td>69.42</td>\n",
       "      <td>69.42</td>\n",
       "      <td>0.0</td>\n",
       "      <td>1977</td>\n",
       "      <td>1.0</td>\n",
       "      <td>0.0</td>\n",
       "      <td>...</td>\n",
       "      <td>88</td>\n",
       "      <td>0</td>\n",
       "      <td>NaN</td>\n",
       "      <td>NaN</td>\n",
       "      <td>NaN</td>\n",
       "      <td>NaN</td>\n",
       "      <td>NaN</td>\n",
       "      <td>NaN</td>\n",
       "      <td>NaN</td>\n",
       "      <td>NaN</td>\n",
       "    </tr>\n",
       "    <tr>\n",
       "      <th>1</th>\n",
       "      <td>2018-09-30 08:26</td>\n",
       "      <td>NaN</td>\n",
       "      <td>NaN</td>\n",
       "      <td>3</td>\n",
       "      <td>46.29</td>\n",
       "      <td>46.29</td>\n",
       "      <td>0.0</td>\n",
       "      <td>NaN</td>\n",
       "      <td>1.0</td>\n",
       "      <td>0.0</td>\n",
       "      <td>...</td>\n",
       "      <td>7727</td>\n",
       "      <td>0</td>\n",
       "      <td>NaN</td>\n",
       "      <td>NaN</td>\n",
       "      <td>NaN</td>\n",
       "      <td>NaN</td>\n",
       "      <td>NaN</td>\n",
       "      <td>NaN</td>\n",
       "      <td>NaN</td>\n",
       "      <td>NaN</td>\n",
       "    </tr>\n",
       "    <tr>\n",
       "      <th>2</th>\n",
       "      <td>2016-10-30 14:57</td>\n",
       "      <td>공동주택</td>\n",
       "      <td>철근콘크리트구조</td>\n",
       "      <td>1</td>\n",
       "      <td>583.80</td>\n",
       "      <td>2516.76</td>\n",
       "      <td>1446.0</td>\n",
       "      <td>2.00011e+07</td>\n",
       "      <td>5.0</td>\n",
       "      <td>0.0</td>\n",
       "      <td>...</td>\n",
       "      <td>72</td>\n",
       "      <td>14</td>\n",
       "      <td>NaN</td>\n",
       "      <td>NaN</td>\n",
       "      <td>NaN</td>\n",
       "      <td>NaN</td>\n",
       "      <td>NaN</td>\n",
       "      <td>NaN</td>\n",
       "      <td>NaN</td>\n",
       "      <td>NaN</td>\n",
       "    </tr>\n",
       "    <tr>\n",
       "      <th>3</th>\n",
       "      <td>2016-06-14 05:23</td>\n",
       "      <td>단독주택</td>\n",
       "      <td>일반목구조</td>\n",
       "      <td>2</td>\n",
       "      <td>48.92</td>\n",
       "      <td>48.92</td>\n",
       "      <td>0.0</td>\n",
       "      <td>1936</td>\n",
       "      <td>1.0</td>\n",
       "      <td>0.0</td>\n",
       "      <td>...</td>\n",
       "      <td>508</td>\n",
       "      <td>11</td>\n",
       "      <td>NaN</td>\n",
       "      <td>NaN</td>\n",
       "      <td>NaN</td>\n",
       "      <td>NaN</td>\n",
       "      <td>NaN</td>\n",
       "      <td>NaN</td>\n",
       "      <td>NaN</td>\n",
       "      <td>NaN</td>\n",
       "    </tr>\n",
       "    <tr>\n",
       "      <th>4</th>\n",
       "      <td>2018-04-22 05:38</td>\n",
       "      <td>NaN</td>\n",
       "      <td>NaN</td>\n",
       "      <td>2</td>\n",
       "      <td>0.00</td>\n",
       "      <td>0.00</td>\n",
       "      <td>0.0</td>\n",
       "      <td>NaN</td>\n",
       "      <td>NaN</td>\n",
       "      <td>NaN</td>\n",
       "      <td>...</td>\n",
       "      <td>707</td>\n",
       "      <td>0</td>\n",
       "      <td>NaN</td>\n",
       "      <td>NaN</td>\n",
       "      <td>NaN</td>\n",
       "      <td>NaN</td>\n",
       "      <td>NaN</td>\n",
       "      <td>NaN</td>\n",
       "      <td>NaN</td>\n",
       "      <td>NaN</td>\n",
       "    </tr>\n",
       "    <tr>\n",
       "      <th>...</th>\n",
       "      <td>...</td>\n",
       "      <td>...</td>\n",
       "      <td>...</td>\n",
       "      <td>...</td>\n",
       "      <td>...</td>\n",
       "      <td>...</td>\n",
       "      <td>...</td>\n",
       "      <td>...</td>\n",
       "      <td>...</td>\n",
       "      <td>...</td>\n",
       "      <td>...</td>\n",
       "      <td>...</td>\n",
       "      <td>...</td>\n",
       "      <td>...</td>\n",
       "      <td>...</td>\n",
       "      <td>...</td>\n",
       "      <td>...</td>\n",
       "      <td>...</td>\n",
       "      <td>...</td>\n",
       "      <td>...</td>\n",
       "      <td>...</td>\n",
       "    </tr>\n",
       "    <tr>\n",
       "      <th>69049</th>\n",
       "      <td>2018-05-31 19:17</td>\n",
       "      <td>단독주택</td>\n",
       "      <td>철근콘크리트구조</td>\n",
       "      <td>1</td>\n",
       "      <td>122.45</td>\n",
       "      <td>329.55</td>\n",
       "      <td>288.0</td>\n",
       "      <td>2.00108e+07</td>\n",
       "      <td>3.0</td>\n",
       "      <td>0.0</td>\n",
       "      <td>...</td>\n",
       "      <td>183</td>\n",
       "      <td>5</td>\n",
       "      <td>NaN</td>\n",
       "      <td>NaN</td>\n",
       "      <td>NaN</td>\n",
       "      <td>NaN</td>\n",
       "      <td>NaN</td>\n",
       "      <td>NaN</td>\n",
       "      <td>NaN</td>\n",
       "      <td>NaN</td>\n",
       "    </tr>\n",
       "    <tr>\n",
       "      <th>69050</th>\n",
       "      <td>2014-10-17 18:20</td>\n",
       "      <td>NaN</td>\n",
       "      <td>NaN</td>\n",
       "      <td>4</td>\n",
       "      <td>52.89</td>\n",
       "      <td>52.89</td>\n",
       "      <td>0.0</td>\n",
       "      <td>NaN</td>\n",
       "      <td>1.0</td>\n",
       "      <td>0.0</td>\n",
       "      <td>...</td>\n",
       "      <td>590</td>\n",
       "      <td>0</td>\n",
       "      <td>NaN</td>\n",
       "      <td>NaN</td>\n",
       "      <td>NaN</td>\n",
       "      <td>NaN</td>\n",
       "      <td>NaN</td>\n",
       "      <td>NaN</td>\n",
       "      <td>NaN</td>\n",
       "      <td>NaN</td>\n",
       "    </tr>\n",
       "    <tr>\n",
       "      <th>69051</th>\n",
       "      <td>2015-08-25 15:13</td>\n",
       "      <td>단독주택</td>\n",
       "      <td>철근콘크리트구조</td>\n",
       "      <td>1</td>\n",
       "      <td>166.05</td>\n",
       "      <td>466.82</td>\n",
       "      <td>277.3</td>\n",
       "      <td>2.01208e+07</td>\n",
       "      <td>3.0</td>\n",
       "      <td>0.0</td>\n",
       "      <td>...</td>\n",
       "      <td>105</td>\n",
       "      <td>4</td>\n",
       "      <td>NaN</td>\n",
       "      <td>NaN</td>\n",
       "      <td>NaN</td>\n",
       "      <td>NaN</td>\n",
       "      <td>NaN</td>\n",
       "      <td>NaN</td>\n",
       "      <td>NaN</td>\n",
       "      <td>NaN</td>\n",
       "    </tr>\n",
       "    <tr>\n",
       "      <th>69052</th>\n",
       "      <td>2015-05-27 23:00</td>\n",
       "      <td>자동차관련시설</td>\n",
       "      <td>경량철골구조</td>\n",
       "      <td>1</td>\n",
       "      <td>250.00</td>\n",
       "      <td>240.00</td>\n",
       "      <td>827.8</td>\n",
       "      <td>2.00908e+07</td>\n",
       "      <td>1.0</td>\n",
       "      <td>0.0</td>\n",
       "      <td>...</td>\n",
       "      <td>806</td>\n",
       "      <td>7</td>\n",
       "      <td>NaN</td>\n",
       "      <td>NaN</td>\n",
       "      <td>NaN</td>\n",
       "      <td>NaN</td>\n",
       "      <td>NaN</td>\n",
       "      <td>NaN</td>\n",
       "      <td>NaN</td>\n",
       "      <td>NaN</td>\n",
       "    </tr>\n",
       "    <tr>\n",
       "      <th>69053</th>\n",
       "      <td>2015-08-02 23:18</td>\n",
       "      <td>업무시설</td>\n",
       "      <td>철근콘크리트구조</td>\n",
       "      <td>2</td>\n",
       "      <td>2055.80</td>\n",
       "      <td>6169.88</td>\n",
       "      <td>3767.6</td>\n",
       "      <td>1.99809e+07</td>\n",
       "      <td>3.0</td>\n",
       "      <td>1.0</td>\n",
       "      <td>...</td>\n",
       "      <td>218</td>\n",
       "      <td>7</td>\n",
       "      <td>NaN</td>\n",
       "      <td>NaN</td>\n",
       "      <td>NaN</td>\n",
       "      <td>NaN</td>\n",
       "      <td>NaN</td>\n",
       "      <td>NaN</td>\n",
       "      <td>NaN</td>\n",
       "      <td>NaN</td>\n",
       "    </tr>\n",
       "  </tbody>\n",
       "</table>\n",
       "<p>69054 rows × 178 columns</p>\n",
       "</div>"
      ],
      "text/plain": [
       "               dt_of_fr bldng_us bldng_archtctr  bldng_cnt  bldng_ar   ttl_ar  \\\n",
       "0      2017-10-20 05:54     단독주택           블록구조          3     69.42    69.42   \n",
       "1      2018-09-30 08:26      NaN            NaN          3     46.29    46.29   \n",
       "2      2016-10-30 14:57     공동주택       철근콘크리트구조          1    583.80  2516.76   \n",
       "3      2016-06-14 05:23     단독주택          일반목구조          2     48.92    48.92   \n",
       "4      2018-04-22 05:38      NaN            NaN          2      0.00     0.00   \n",
       "...                 ...      ...            ...        ...       ...      ...   \n",
       "69049  2018-05-31 19:17     단독주택       철근콘크리트구조          1    122.45   329.55   \n",
       "69050  2014-10-17 18:20      NaN            NaN          4     52.89    52.89   \n",
       "69051  2015-08-25 15:13     단독주택       철근콘크리트구조          1    166.05   466.82   \n",
       "69052  2015-05-27 23:00  자동차관련시설         경량철골구조          1    250.00   240.00   \n",
       "69053  2015-08-02 23:18     업무시설       철근콘크리트구조          2   2055.80  6169.88   \n",
       "\n",
       "       lnd_ar dt_of_athrztn  ttl_grnd_flr  ttl_dwn_flr  ... no_tbc_zn_dstnc  \\\n",
       "0         0.0          1977           1.0          0.0  ...              88   \n",
       "1         0.0           NaN           1.0          0.0  ...            7727   \n",
       "2      1446.0   2.00011e+07           5.0          0.0  ...              72   \n",
       "3         0.0          1936           1.0          0.0  ...             508   \n",
       "4         0.0           NaN           NaN          NaN  ...             707   \n",
       "...       ...           ...           ...          ...  ...             ...   \n",
       "69049   288.0   2.00108e+07           3.0          0.0  ...             183   \n",
       "69050     0.0           NaN           1.0          0.0  ...             590   \n",
       "69051   277.3   2.01208e+07           3.0          0.0  ...             105   \n",
       "69052   827.8   2.00908e+07           1.0          0.0  ...             806   \n",
       "69053  3767.6   1.99809e+07           3.0          1.0  ...             218   \n",
       "\n",
       "       bldng_cnt_in_50m  trgt_crtr  fr_fghtng_fclt_spcl_css_5_yn  \\\n",
       "0                     0        NaN                           NaN   \n",
       "1                     0        NaN                           NaN   \n",
       "2                    14        NaN                           NaN   \n",
       "3                    11        NaN                           NaN   \n",
       "4                     0        NaN                           NaN   \n",
       "...                 ...        ...                           ...   \n",
       "69049                 5        NaN                           NaN   \n",
       "69050                 0        NaN                           NaN   \n",
       "69051                 4        NaN                           NaN   \n",
       "69052                 7        NaN                           NaN   \n",
       "69053                 7        NaN                           NaN   \n",
       "\n",
       "       fr_fghtng_fclt_spcl_css_6_yn  us_yn  dngrs_thng_yn  slf_fr_brgd_yn  \\\n",
       "0                               NaN    NaN            NaN             NaN   \n",
       "1                               NaN    NaN            NaN             NaN   \n",
       "2                               NaN    NaN            NaN             NaN   \n",
       "3                               NaN    NaN            NaN             NaN   \n",
       "4                               NaN    NaN            NaN             NaN   \n",
       "...                             ...    ...            ...             ...   \n",
       "69049                           NaN    NaN            NaN             NaN   \n",
       "69050                           NaN    NaN            NaN             NaN   \n",
       "69051                           NaN    NaN            NaN             NaN   \n",
       "69052                           NaN    NaN            NaN             NaN   \n",
       "69053                           NaN    NaN            NaN             NaN   \n",
       "\n",
       "       blk_dngrs_thng_mnfctr_yn  cltrl_hrtg_yn  \n",
       "0                           NaN            NaN  \n",
       "1                           NaN            NaN  \n",
       "2                           NaN            NaN  \n",
       "3                           NaN            NaN  \n",
       "4                           NaN            NaN  \n",
       "...                         ...            ...  \n",
       "69049                       NaN            NaN  \n",
       "69050                       NaN            NaN  \n",
       "69051                       NaN            NaN  \n",
       "69052                       NaN            NaN  \n",
       "69053                       NaN            NaN  \n",
       "\n",
       "[69054 rows x 178 columns]"
      ]
     },
     "execution_count": 117,
     "metadata": {},
     "output_type": "execute_result"
    }
   ],
   "source": [
    "all_df"
   ]
  },
  {
   "cell_type": "markdown",
   "metadata": {},
   "source": [
    "### 'dt_of_yn' bar chart"
   ]
  },
  {
   "cell_type": "code",
   "execution_count": 118,
   "metadata": {},
   "outputs": [],
   "source": [
    "all_df[\"month\"] = pd.to_datetime(train_df['dt_of_fr']).dt.month\n",
    "all_df[\"year\"] = pd.to_datetime(train_df['dt_of_fr']).dt.year"
   ]
  },
  {
   "cell_type": "code",
   "execution_count": 119,
   "metadata": {},
   "outputs": [
    {
     "data": {
      "image/png": "[encoded data removed]",
      "text/plain": [
       "<Figure size 432x288 with 1 Axes>"
      ]
     },
     "metadata": {
      "needs_background": "light"
     },
     "output_type": "display_data"
    }
   ],
   "source": [
    "train_dt_y = train_df[train_df[\"fr_yn\"] == \"Y\"][[\"dt_of_fr\", \"fr_yn\"]]\n",
    "train_dt_y[\"month\"] = pd.to_datetime(train_df['dt_of_fr']).dt.month\n",
    "train_dt_y[\"year\"] = pd.to_datetime(train_df['dt_of_fr']).dt.year\n",
    "\n",
    "month_grp = train_dt_y.groupby([\"month\"])['fr_yn'].count()\n",
    "abel1 = np.sort(train_dt_y.month.unique())\n",
    "plt.bar(label1, month_grp)\n",
    "\n",
    "plt.title(\"Monthly fr_yn\")\n",
    "plt.ylabel(\"Count\")\n",
    "plt.xlabel(\"Month\")\n",
    "plt.show()"
   ]
  },
  {
   "cell_type": "markdown",
   "metadata": {},
   "source": [
    "매월 화재 발생 건수가 크게 차이 나지 않는다."
   ]
  },
  {
   "cell_type": "markdown",
   "metadata": {},
   "source": [
    "### df_of_fr: object -> datetime"
   ]
  },
  {
   "cell_type": "code",
   "execution_count": null,
   "metadata": {},
   "outputs": [],
   "source": [
    "all_df[\"dt_of_fr\"] = pd.to_datetime(all_df[\"dt_of_fr\"])"
   ]
  },
  {
   "cell_type": "code",
   "execution_count": null,
   "metadata": {},
   "outputs": [],
   "source": [
    "# train_df, test_df, val_df의 date가 순서대로 되어 있는가?\n",
    "# test_df가 미래를 예측하는 것인가?\n",
    "test_df[\"dt_of_fr\"] = pd.to_datetime(test_df[\"dt_of_fr\"])\n",
    "test_df[\"dt_of_fr\"].dt.year\n",
    "\n",
    "# 시간 순서대로 정렬되어 있지 않다. 결국은 미래를 예측하는 것이 아니라고 판단 됨"
   ]
  },
  {
   "cell_type": "markdown",
   "metadata": {},
   "source": [
    "### 건물 용도, 건물 용도 분류명 전처리\n",
    "둘다 nan이면 제거, 건물 용도 컬럼을 지우고 건물 용도 분류명을 사용"
   ]
  },
  {
   "cell_type": "markdown",
   "metadata": {},
   "source": [
    "### 'bldng_us', 'bldng_us_clssfctn' 의 nan 비율"
   ]
  },
  {
   "cell_type": "code",
   "execution_count": 18,
   "metadata": {},
   "outputs": [
    {
     "name": "stdout",
     "output_type": "stream",
     "text": [
      "ratio of nan in 'bldng_us' & 'bldng_us_clssfctn': 42.362498913893475\n",
      "ratio of nan in 'bldng_us_clssfctn: 45.82211023257161\n",
      "ratio of nan in 'bldng_us: 42.3711877660961\n"
     ]
    }
   ],
   "source": [
    "# 'bldng_us_clssfctn'을 'bldng_us'를 대신해서 사용할 것인데, 'bldng_us'를 지우기전 'bldng_us_clssfctn'이 NaN이면 어떻게 처리할 것인가?\n",
    "print(\"ratio of nan in 'bldng_us' & 'bldng_us_clssfctn':\", \n",
    "      len(all_df[(all_df[\"bldng_us\"].isna()) & all_df[\"bldng_us_clssfctn\"].isna()]) / all_df.shape[0] * 100)\n",
    "\n",
    "print(\"ratio of nan in 'bldng_us_clssfctn:\",\n",
    "      len(all_df[all_df[\"bldng_us_clssfctn\"].isna()]) / all_df.shape[0] * 100)\n",
    "\n",
    "print(\"ratio of nan in 'bldng_us:\",\n",
    "      len(all_df[all_df[\"bldng_us\"].isna()]) / all_df.shape[0] * 100)"
   ]
  },
  {
   "cell_type": "markdown",
   "metadata": {},
   "source": [
    "두 feature 모두 비어 있는 것은 어쩔 수 없다. 두 개 모두 비어 있는 데이터는 전체의 **42%**! 어떻게 처리?"
   ]
  },
  {
   "cell_type": "code",
   "execution_count": 19,
   "metadata": {},
   "outputs": [
    {
     "name": "stdout",
     "output_type": "stream",
     "text": [
      "num of bldng_us: 35\n",
      "['단독주택' nan '공동주택' '종교시설' '공장' '제1종근린생활시설' '숙박시설' '동.식물 관련시설' '창고시설'\n",
      " '제2종근린생활시설' '문화및집회시설' '자동차관련시설' '업무시설' '판매시설' '교육연구시설' '분뇨.쓰레기처리시설'\n",
      " '수련시설' '의료시설' '노유자시설' '운동시설' '위락시설' '위험물저장및처리시설' '공공용시설' '교정및군사시설'\n",
      " '교육연구및복지시설' '장례식장' '운수시설' '관광휴게시설' '근린생활시설' '시장' '방송통신시설' '묘지관련시설' '발전시설'\n",
      " '판매및영업시설' '파출소']\n",
      "\n",
      "num of bld_category: 8\n",
      "['주거용' nan '상업용' '문교사회용' '공업용' '농수산용' '기타' '공공용']\n"
     ]
    }
   ],
   "source": [
    "rel_bld_df = all_df[[\"bldng_us\", \"bldng_us_clssfctn\"]]\n",
    "print(\"num of bldng_us:\", len(rel_bld_df[\"bldng_us\"].unique()))\n",
    "print(rel_bld_df[\"bldng_us\"].unique())\n",
    "print()\n",
    "print(\"num of bld_category:\", len(rel_bld_df[\"bldng_us_clssfctn\"].unique()))\n",
    "print(rel_bld_df[\"bldng_us_clssfctn\"].unique())"
   ]
  },
  {
   "cell_type": "markdown",
   "metadata": {},
   "source": [
    "#### 각 카테고리에 속한 건물 유형 확인, 중복 확인"
   ]
  },
  {
   "cell_type": "code",
   "execution_count": 20,
   "metadata": {},
   "outputs": [],
   "source": [
    "train = train_df.copy()\n",
    "\n",
    "# 주거용 cat에 속한 시설 유형\n",
    "live_li = train[train[\"bldng_us_clssfctn\"] == '주거용']['bldng_us'].unique()\n",
    "\n",
    "# 상업용에 속한 시설 유형\n",
    "co_li = train[train[\"bldng_us_clssfctn\"] == '상업용']['bldng_us'].unique()\n",
    "\n",
    "# 문교사회용에 속한 시설 유형\n",
    "cu_li = train[train[\"bldng_us_clssfctn\"] == '문교사회용']['bldng_us'].unique()\n",
    "\n",
    "# 공업용에 속한 시설 유형\n",
    "in_li = train[train[\"bldng_us_clssfctn\"] == '공업용']['bldng_us'].unique()\n",
    "\n",
    "# 농수산용에 속한 시설 유형\n",
    "ag_li = train[train[\"bldng_us_clssfctn\"] == '농수산용']['bldng_us'].unique()\n",
    "\n",
    "# 기타에 속한 시설 유형\n",
    "etc_li = train[train[\"bldng_us_clssfctn\"] == '기타']['bldng_us'].unique()\n",
    "\n",
    "# 공공용에 속한 시설 유형\n",
    "pu_li = train[train[\"bldng_us_clssfctn\"] == '공공용']['bldng_us'].unique()"
   ]
  },
  {
   "cell_type": "code",
   "execution_count": 21,
   "metadata": {},
   "outputs": [
    {
     "name": "stdout",
     "output_type": "stream",
     "text": [
      "['단독주택', '공동주택', '제1종근린생활시설', '동.식물 관련시설', '제2종근린생활시설', '창고시설', '위락시설', '근린생활시설', '판매시설', '문화및집회시설', '공장', '자동차관련시설']\n"
     ]
    }
   ],
   "source": [
    "# 중복 확인 \n",
    "# 현재 섞여서 표기되어 있다. 다시 재분류 후에 replace해줘야 한다.\n",
    "duplicated_item = [item for item in live_li if item in co_li]\n",
    "print(duplicated_item)"
   ]
  },
  {
   "cell_type": "markdown",
   "metadata": {},
   "source": [
    "#### 겹치는 유형들이 있다, 다시 분류 필요\n",
    "\n",
    "- 주거용: 단독주택, 공동주택, (2)\n",
    "\n",
    "- 상업용: 숙박시설, 업무시설, 판매시설, 시장, 판매및영업시설, 위락시설, 운수시설, 위험물저장및처리시설, (8)\n",
    "\n",
    "- 문교사회용: 종교시설, 제1종근린생활시설, 제2종근린생활시설, 문화집회시설, 교육연구시설, 묘지관련시설, 수련시설, 의료시설, 노유자시설, 운동시설, 교육연구및복지시설, 관광휴게시설, 근린생활시설, 장례식장 (14)\n",
    "\n",
    "- 공업용: 공장, 자동차관련시설, (2)\n",
    "\n",
    "- 농수산용: 동.식물 관련시설,  (1)\n",
    "\n",
    "- 기타: 창고, 분뇨.쓰레기처리시설, (2)\n",
    "\n",
    "- 공공용: 공공용시설, 방송통신시설, 파출소, 교정및군사시설, 발전시설 (5)"
   ]
  },
  {
   "cell_type": "code",
   "execution_count": 22,
   "metadata": {},
   "outputs": [],
   "source": [
    "# 위와 같이 나눴다면 이제 어떻게 다시 분류를 할 것인가?\n",
    "# 일단은 위 분류기를 dict로 변환이후, 전체 데이터 replace 하고 이후에 label을 달자\n",
    "\n",
    "bld_dict = {\"주거용\": ['단독주택', '공동주택'],\n",
    "           \"상업용\": ['숙박시설', '업무시설', '판매시설', '시장', '판매및영업시설', \n",
    "                  '위락시설', '운수시설', '위험물저장및처리시설'],\n",
    "           \"문교사회용\": ['종교시설', '제1종근린생활시설', '제2종근린생활시설', \n",
    "                    '문화집회시설', '교욱연구시설', '묘지관련시설', '수련시설',\n",
    "                    '의료시설', '노유자시설', '운동시설', '교육연구및복지시설', \n",
    "                    '관광휴게시설', '근린생활시설', '장례식장'],\n",
    "           \"공업용\": ['공장', '자동차관련시설'],\n",
    "           \"농수산용\": ['동.식물 관련시설'],\n",
    "           \"기타\": ['창고', '분표.쓰레기처리시설'],\n",
    "           \"공공용\": ['공공용시설', '방송통신시설', '파출소', '교정및군사시설', '발전시설']}"
   ]
  },
  {
   "cell_type": "code",
   "execution_count": 23,
   "metadata": {},
   "outputs": [],
   "source": [
    "rel_bld_ft = all_df[[\"bldng_us\", \"bldng_us_clssfctn\"]]"
   ]
  },
  {
   "cell_type": "markdown",
   "metadata": {},
   "source": [
    "### bldng_us 값은 있으나 bldng_us_clssfctn의 값이 없는 것들을 뽑아내어 위의 dict의 key값을 갖게 하자.\n",
    "### 그리고 아래의 라벨 값을 붙여 주면 됨"
   ]
  },
  {
   "cell_type": "code",
   "execution_count": 24,
   "metadata": {},
   "outputs": [
    {
     "name": "stdout",
     "output_type": "stream",
     "text": [
      "bldng_us                0\n",
      "bldng_us_clssfctn    2389\n",
      "dtype: int64\n"
     ]
    },
    {
     "data": {
      "text/html": [
       "<div>\n",
       "<style scoped>\n",
       "    .dataframe tbody tr th:only-of-type {\n",
       "        vertical-align: middle;\n",
       "    }\n",
       "\n",
       "    .dataframe tbody tr th {\n",
       "        vertical-align: top;\n",
       "    }\n",
       "\n",
       "    .dataframe thead th {\n",
       "        text-align: right;\n",
       "    }\n",
       "</style>\n",
       "<table border=\"1\" class=\"dataframe\">\n",
       "  <thead>\n",
       "    <tr style=\"text-align: right;\">\n",
       "      <th></th>\n",
       "      <th>bldng_us</th>\n",
       "      <th>bldng_us_clssfctn</th>\n",
       "    </tr>\n",
       "  </thead>\n",
       "  <tbody>\n",
       "    <tr>\n",
       "      <th>19</th>\n",
       "      <td>단독주택</td>\n",
       "      <td>NaN</td>\n",
       "    </tr>\n",
       "    <tr>\n",
       "      <th>112</th>\n",
       "      <td>동.식물 관련시설</td>\n",
       "      <td>NaN</td>\n",
       "    </tr>\n",
       "    <tr>\n",
       "      <th>127</th>\n",
       "      <td>창고시설</td>\n",
       "      <td>NaN</td>\n",
       "    </tr>\n",
       "    <tr>\n",
       "      <th>140</th>\n",
       "      <td>단독주택</td>\n",
       "      <td>NaN</td>\n",
       "    </tr>\n",
       "    <tr>\n",
       "      <th>169</th>\n",
       "      <td>단독주택</td>\n",
       "      <td>NaN</td>\n",
       "    </tr>\n",
       "    <tr>\n",
       "      <th>...</th>\n",
       "      <td>...</td>\n",
       "      <td>...</td>\n",
       "    </tr>\n",
       "    <tr>\n",
       "      <th>68993</th>\n",
       "      <td>단독주택</td>\n",
       "      <td>NaN</td>\n",
       "    </tr>\n",
       "    <tr>\n",
       "      <th>69019</th>\n",
       "      <td>제1종근린생활시설</td>\n",
       "      <td>NaN</td>\n",
       "    </tr>\n",
       "    <tr>\n",
       "      <th>69030</th>\n",
       "      <td>노유자시설</td>\n",
       "      <td>NaN</td>\n",
       "    </tr>\n",
       "    <tr>\n",
       "      <th>69037</th>\n",
       "      <td>단독주택</td>\n",
       "      <td>NaN</td>\n",
       "    </tr>\n",
       "    <tr>\n",
       "      <th>69042</th>\n",
       "      <td>숙박시설</td>\n",
       "      <td>NaN</td>\n",
       "    </tr>\n",
       "  </tbody>\n",
       "</table>\n",
       "<p>2389 rows × 2 columns</p>\n",
       "</div>"
      ],
      "text/plain": [
       "        bldng_us bldng_us_clssfctn\n",
       "19          단독주택               NaN\n",
       "112    동.식물 관련시설               NaN\n",
       "127         창고시설               NaN\n",
       "140         단독주택               NaN\n",
       "169         단독주택               NaN\n",
       "...          ...               ...\n",
       "68993       단독주택               NaN\n",
       "69019  제1종근린생활시설               NaN\n",
       "69030      노유자시설               NaN\n",
       "69037       단독주택               NaN\n",
       "69042       숙박시설               NaN\n",
       "\n",
       "[2389 rows x 2 columns]"
      ]
     },
     "execution_count": 24,
     "metadata": {},
     "output_type": "execute_result"
    }
   ],
   "source": [
    "# Check how many nan values in bldng_us\n",
    "rel_bldng_df = all_df[[\"bldng_us\", \"bldng_us_clssfctn\"]]\n",
    "\n",
    "# us는 존재하나, clssfctn가 nan인 데이터가 2389개\n",
    "print(rel_bldng_df[(rel_bldng_df[\"bldng_us\"].isna() == False) & (rel_bldng_df['bldng_us_clssfctn'].isna())].isnull().sum())\n",
    "\n",
    "bld_index = rel_bldng_df[(rel_bldng_df[\"bldng_us\"].isna() == False) & (rel_bldng_df['bldng_us_clssfctn'].isna())].index\n",
    "\n",
    "rel_bldng_df[(rel_bldng_df[\"bldng_us\"].isna() == False) & (rel_bldng_df['bldng_us_clssfctn'].isna())]"
   ]
  },
  {
   "cell_type": "code",
   "execution_count": 25,
   "metadata": {},
   "outputs": [
    {
     "data": {
      "text/plain": [
       "19    단독주택\n",
       "Name: bldng_us, dtype: object"
      ]
     },
     "execution_count": 25,
     "metadata": {},
     "output_type": "execute_result"
    }
   ],
   "source": [
    "all_df[all_df.index == 19]['bldng_us']"
   ]
  },
  {
   "cell_type": "code",
   "execution_count": null,
   "metadata": {},
   "outputs": [],
   "source": []
  },
  {
   "cell_type": "markdown",
   "metadata": {},
   "source": [
    "## 섞여있는 bldng_us_clssfctn은 잘못된 데이터가 아니라고 생각됨.\n",
    "다시 시작함"
   ]
  },
  {
   "cell_type": "code",
   "execution_count": 26,
   "metadata": {},
   "outputs": [],
   "source": [
    "# nan: 0, 주거용: 1, 상업용: 2, 문교사회용: 3, 공업용: 4, 농수산용: 5, 공공용: 6, 기타: 7\n",
    "bld_codes = {np.nan: 0,\n",
    "            '주거용': 1,\n",
    "            '상업용': 2,\n",
    "            '문교사회용': 3,\n",
    "            '공업용': 4,\n",
    "            '농수산용': 5,\n",
    "            '공공용': 6,\n",
    "            '기타': 7}\n",
    "\n",
    "all_df[\"bldng_code\"] = all_df['bldng_us_clssfctn'].apply(lambda x: bld_codes[x])\n",
    "\n",
    "del all_df['bldng_us']\n",
    "del all_df['bldng_us_clssfctn']"
   ]
  },
  {
   "cell_type": "code",
   "execution_count": 27,
   "metadata": {},
   "outputs": [
    {
     "data": {
      "text/html": [
       "<div>\n",
       "<style scoped>\n",
       "    .dataframe tbody tr th:only-of-type {\n",
       "        vertical-align: middle;\n",
       "    }\n",
       "\n",
       "    .dataframe tbody tr th {\n",
       "        vertical-align: top;\n",
       "    }\n",
       "\n",
       "    .dataframe thead th {\n",
       "        text-align: right;\n",
       "    }\n",
       "</style>\n",
       "<table border=\"1\" class=\"dataframe\">\n",
       "  <thead>\n",
       "    <tr style=\"text-align: right;\">\n",
       "      <th></th>\n",
       "      <th>dt_of_fr</th>\n",
       "      <th>bldng_archtctr</th>\n",
       "      <th>bldng_cnt</th>\n",
       "      <th>bldng_ar</th>\n",
       "      <th>ttl_ar</th>\n",
       "      <th>lnd_ar</th>\n",
       "      <th>dt_of_athrztn</th>\n",
       "      <th>ttl_grnd_flr</th>\n",
       "      <th>ttl_dwn_flr</th>\n",
       "      <th>tmprtr</th>\n",
       "      <th>...</th>\n",
       "      <th>bldng_cnt_in_50m</th>\n",
       "      <th>trgt_crtr</th>\n",
       "      <th>fr_fghtng_fclt_spcl_css_5_yn</th>\n",
       "      <th>fr_fghtng_fclt_spcl_css_6_yn</th>\n",
       "      <th>us_yn</th>\n",
       "      <th>dngrs_thng_yn</th>\n",
       "      <th>slf_fr_brgd_yn</th>\n",
       "      <th>blk_dngrs_thng_mnfctr_yn</th>\n",
       "      <th>cltrl_hrtg_yn</th>\n",
       "      <th>bldng_code</th>\n",
       "    </tr>\n",
       "  </thead>\n",
       "  <tbody>\n",
       "    <tr>\n",
       "      <th>0</th>\n",
       "      <td>2017-10-20 05:54:00</td>\n",
       "      <td>블록구조</td>\n",
       "      <td>3</td>\n",
       "      <td>69.42</td>\n",
       "      <td>69.42</td>\n",
       "      <td>0.0</td>\n",
       "      <td>1977</td>\n",
       "      <td>1.0</td>\n",
       "      <td>0.0</td>\n",
       "      <td>10.7</td>\n",
       "      <td>...</td>\n",
       "      <td>0</td>\n",
       "      <td>NaN</td>\n",
       "      <td>NaN</td>\n",
       "      <td>NaN</td>\n",
       "      <td>NaN</td>\n",
       "      <td>NaN</td>\n",
       "      <td>NaN</td>\n",
       "      <td>NaN</td>\n",
       "      <td>NaN</td>\n",
       "      <td>1</td>\n",
       "    </tr>\n",
       "    <tr>\n",
       "      <th>1</th>\n",
       "      <td>2018-09-30 08:26:00</td>\n",
       "      <td>NaN</td>\n",
       "      <td>3</td>\n",
       "      <td>46.29</td>\n",
       "      <td>46.29</td>\n",
       "      <td>0.0</td>\n",
       "      <td>NaN</td>\n",
       "      <td>1.0</td>\n",
       "      <td>0.0</td>\n",
       "      <td>19.5</td>\n",
       "      <td>...</td>\n",
       "      <td>0</td>\n",
       "      <td>NaN</td>\n",
       "      <td>NaN</td>\n",
       "      <td>NaN</td>\n",
       "      <td>NaN</td>\n",
       "      <td>NaN</td>\n",
       "      <td>NaN</td>\n",
       "      <td>NaN</td>\n",
       "      <td>NaN</td>\n",
       "      <td>0</td>\n",
       "    </tr>\n",
       "    <tr>\n",
       "      <th>2</th>\n",
       "      <td>2016-10-30 14:57:00</td>\n",
       "      <td>철근콘크리트구조</td>\n",
       "      <td>1</td>\n",
       "      <td>583.80</td>\n",
       "      <td>2516.76</td>\n",
       "      <td>1446.0</td>\n",
       "      <td>2.00011e+07</td>\n",
       "      <td>5.0</td>\n",
       "      <td>0.0</td>\n",
       "      <td>15.5</td>\n",
       "      <td>...</td>\n",
       "      <td>14</td>\n",
       "      <td>NaN</td>\n",
       "      <td>NaN</td>\n",
       "      <td>NaN</td>\n",
       "      <td>NaN</td>\n",
       "      <td>NaN</td>\n",
       "      <td>NaN</td>\n",
       "      <td>NaN</td>\n",
       "      <td>NaN</td>\n",
       "      <td>1</td>\n",
       "    </tr>\n",
       "    <tr>\n",
       "      <th>3</th>\n",
       "      <td>2016-06-14 05:23:00</td>\n",
       "      <td>일반목구조</td>\n",
       "      <td>2</td>\n",
       "      <td>48.92</td>\n",
       "      <td>48.92</td>\n",
       "      <td>0.0</td>\n",
       "      <td>1936</td>\n",
       "      <td>1.0</td>\n",
       "      <td>0.0</td>\n",
       "      <td>20.6</td>\n",
       "      <td>...</td>\n",
       "      <td>11</td>\n",
       "      <td>NaN</td>\n",
       "      <td>NaN</td>\n",
       "      <td>NaN</td>\n",
       "      <td>NaN</td>\n",
       "      <td>NaN</td>\n",
       "      <td>NaN</td>\n",
       "      <td>NaN</td>\n",
       "      <td>NaN</td>\n",
       "      <td>1</td>\n",
       "    </tr>\n",
       "    <tr>\n",
       "      <th>4</th>\n",
       "      <td>2018-04-22 05:38:00</td>\n",
       "      <td>NaN</td>\n",
       "      <td>2</td>\n",
       "      <td>0.00</td>\n",
       "      <td>0.00</td>\n",
       "      <td>0.0</td>\n",
       "      <td>NaN</td>\n",
       "      <td>NaN</td>\n",
       "      <td>NaN</td>\n",
       "      <td>12.7</td>\n",
       "      <td>...</td>\n",
       "      <td>0</td>\n",
       "      <td>NaN</td>\n",
       "      <td>NaN</td>\n",
       "      <td>NaN</td>\n",
       "      <td>NaN</td>\n",
       "      <td>NaN</td>\n",
       "      <td>NaN</td>\n",
       "      <td>NaN</td>\n",
       "      <td>NaN</td>\n",
       "      <td>0</td>\n",
       "    </tr>\n",
       "    <tr>\n",
       "      <th>...</th>\n",
       "      <td>...</td>\n",
       "      <td>...</td>\n",
       "      <td>...</td>\n",
       "      <td>...</td>\n",
       "      <td>...</td>\n",
       "      <td>...</td>\n",
       "      <td>...</td>\n",
       "      <td>...</td>\n",
       "      <td>...</td>\n",
       "      <td>...</td>\n",
       "      <td>...</td>\n",
       "      <td>...</td>\n",
       "      <td>...</td>\n",
       "      <td>...</td>\n",
       "      <td>...</td>\n",
       "      <td>...</td>\n",
       "      <td>...</td>\n",
       "      <td>...</td>\n",
       "      <td>...</td>\n",
       "      <td>...</td>\n",
       "      <td>...</td>\n",
       "    </tr>\n",
       "    <tr>\n",
       "      <th>69049</th>\n",
       "      <td>2018-05-31 19:17:00</td>\n",
       "      <td>철근콘크리트구조</td>\n",
       "      <td>1</td>\n",
       "      <td>122.45</td>\n",
       "      <td>329.55</td>\n",
       "      <td>288.0</td>\n",
       "      <td>2.00108e+07</td>\n",
       "      <td>3.0</td>\n",
       "      <td>0.0</td>\n",
       "      <td>20.3</td>\n",
       "      <td>...</td>\n",
       "      <td>5</td>\n",
       "      <td>NaN</td>\n",
       "      <td>NaN</td>\n",
       "      <td>NaN</td>\n",
       "      <td>NaN</td>\n",
       "      <td>NaN</td>\n",
       "      <td>NaN</td>\n",
       "      <td>NaN</td>\n",
       "      <td>NaN</td>\n",
       "      <td>1</td>\n",
       "    </tr>\n",
       "    <tr>\n",
       "      <th>69050</th>\n",
       "      <td>2014-10-17 18:20:00</td>\n",
       "      <td>NaN</td>\n",
       "      <td>4</td>\n",
       "      <td>52.89</td>\n",
       "      <td>52.89</td>\n",
       "      <td>0.0</td>\n",
       "      <td>NaN</td>\n",
       "      <td>1.0</td>\n",
       "      <td>0.0</td>\n",
       "      <td>16.7</td>\n",
       "      <td>...</td>\n",
       "      <td>0</td>\n",
       "      <td>NaN</td>\n",
       "      <td>NaN</td>\n",
       "      <td>NaN</td>\n",
       "      <td>NaN</td>\n",
       "      <td>NaN</td>\n",
       "      <td>NaN</td>\n",
       "      <td>NaN</td>\n",
       "      <td>NaN</td>\n",
       "      <td>0</td>\n",
       "    </tr>\n",
       "    <tr>\n",
       "      <th>69051</th>\n",
       "      <td>2015-08-25 15:13:00</td>\n",
       "      <td>철근콘크리트구조</td>\n",
       "      <td>1</td>\n",
       "      <td>166.05</td>\n",
       "      <td>466.82</td>\n",
       "      <td>277.3</td>\n",
       "      <td>2.01208e+07</td>\n",
       "      <td>3.0</td>\n",
       "      <td>0.0</td>\n",
       "      <td>23.9</td>\n",
       "      <td>...</td>\n",
       "      <td>4</td>\n",
       "      <td>NaN</td>\n",
       "      <td>NaN</td>\n",
       "      <td>NaN</td>\n",
       "      <td>NaN</td>\n",
       "      <td>NaN</td>\n",
       "      <td>NaN</td>\n",
       "      <td>NaN</td>\n",
       "      <td>NaN</td>\n",
       "      <td>1</td>\n",
       "    </tr>\n",
       "    <tr>\n",
       "      <th>69052</th>\n",
       "      <td>2015-05-27 23:00:00</td>\n",
       "      <td>경량철골구조</td>\n",
       "      <td>1</td>\n",
       "      <td>250.00</td>\n",
       "      <td>240.00</td>\n",
       "      <td>827.8</td>\n",
       "      <td>2.00908e+07</td>\n",
       "      <td>1.0</td>\n",
       "      <td>0.0</td>\n",
       "      <td>21.1</td>\n",
       "      <td>...</td>\n",
       "      <td>7</td>\n",
       "      <td>NaN</td>\n",
       "      <td>NaN</td>\n",
       "      <td>NaN</td>\n",
       "      <td>NaN</td>\n",
       "      <td>NaN</td>\n",
       "      <td>NaN</td>\n",
       "      <td>NaN</td>\n",
       "      <td>NaN</td>\n",
       "      <td>2</td>\n",
       "    </tr>\n",
       "    <tr>\n",
       "      <th>69053</th>\n",
       "      <td>2015-08-02 23:18:00</td>\n",
       "      <td>철근콘크리트구조</td>\n",
       "      <td>2</td>\n",
       "      <td>2055.80</td>\n",
       "      <td>6169.88</td>\n",
       "      <td>3767.6</td>\n",
       "      <td>1.99809e+07</td>\n",
       "      <td>3.0</td>\n",
       "      <td>1.0</td>\n",
       "      <td>26.6</td>\n",
       "      <td>...</td>\n",
       "      <td>7</td>\n",
       "      <td>NaN</td>\n",
       "      <td>NaN</td>\n",
       "      <td>NaN</td>\n",
       "      <td>NaN</td>\n",
       "      <td>NaN</td>\n",
       "      <td>NaN</td>\n",
       "      <td>NaN</td>\n",
       "      <td>NaN</td>\n",
       "      <td>6</td>\n",
       "    </tr>\n",
       "  </tbody>\n",
       "</table>\n",
       "<p>69054 rows × 177 columns</p>\n",
       "</div>"
      ],
      "text/plain": [
       "                 dt_of_fr bldng_archtctr  bldng_cnt  bldng_ar   ttl_ar  \\\n",
       "0     2017-10-20 05:54:00           블록구조          3     69.42    69.42   \n",
       "1     2018-09-30 08:26:00            NaN          3     46.29    46.29   \n",
       "2     2016-10-30 14:57:00       철근콘크리트구조          1    583.80  2516.76   \n",
       "3     2016-06-14 05:23:00          일반목구조          2     48.92    48.92   \n",
       "4     2018-04-22 05:38:00            NaN          2      0.00     0.00   \n",
       "...                   ...            ...        ...       ...      ...   \n",
       "69049 2018-05-31 19:17:00       철근콘크리트구조          1    122.45   329.55   \n",
       "69050 2014-10-17 18:20:00            NaN          4     52.89    52.89   \n",
       "69051 2015-08-25 15:13:00       철근콘크리트구조          1    166.05   466.82   \n",
       "69052 2015-05-27 23:00:00         경량철골구조          1    250.00   240.00   \n",
       "69053 2015-08-02 23:18:00       철근콘크리트구조          2   2055.80  6169.88   \n",
       "\n",
       "       lnd_ar dt_of_athrztn  ttl_grnd_flr  ttl_dwn_flr  tmprtr  ...  \\\n",
       "0         0.0          1977           1.0          0.0    10.7  ...   \n",
       "1         0.0           NaN           1.0          0.0    19.5  ...   \n",
       "2      1446.0   2.00011e+07           5.0          0.0    15.5  ...   \n",
       "3         0.0          1936           1.0          0.0    20.6  ...   \n",
       "4         0.0           NaN           NaN          NaN    12.7  ...   \n",
       "...       ...           ...           ...          ...     ...  ...   \n",
       "69049   288.0   2.00108e+07           3.0          0.0    20.3  ...   \n",
       "69050     0.0           NaN           1.0          0.0    16.7  ...   \n",
       "69051   277.3   2.01208e+07           3.0          0.0    23.9  ...   \n",
       "69052   827.8   2.00908e+07           1.0          0.0    21.1  ...   \n",
       "69053  3767.6   1.99809e+07           3.0          1.0    26.6  ...   \n",
       "\n",
       "       bldng_cnt_in_50m  trgt_crtr  fr_fghtng_fclt_spcl_css_5_yn  \\\n",
       "0                     0        NaN                           NaN   \n",
       "1                     0        NaN                           NaN   \n",
       "2                    14        NaN                           NaN   \n",
       "3                    11        NaN                           NaN   \n",
       "4                     0        NaN                           NaN   \n",
       "...                 ...        ...                           ...   \n",
       "69049                 5        NaN                           NaN   \n",
       "69050                 0        NaN                           NaN   \n",
       "69051                 4        NaN                           NaN   \n",
       "69052                 7        NaN                           NaN   \n",
       "69053                 7        NaN                           NaN   \n",
       "\n",
       "       fr_fghtng_fclt_spcl_css_6_yn  us_yn  dngrs_thng_yn  slf_fr_brgd_yn  \\\n",
       "0                               NaN    NaN            NaN             NaN   \n",
       "1                               NaN    NaN            NaN             NaN   \n",
       "2                               NaN    NaN            NaN             NaN   \n",
       "3                               NaN    NaN            NaN             NaN   \n",
       "4                               NaN    NaN            NaN             NaN   \n",
       "...                             ...    ...            ...             ...   \n",
       "69049                           NaN    NaN            NaN             NaN   \n",
       "69050                           NaN    NaN            NaN             NaN   \n",
       "69051                           NaN    NaN            NaN             NaN   \n",
       "69052                           NaN    NaN            NaN             NaN   \n",
       "69053                           NaN    NaN            NaN             NaN   \n",
       "\n",
       "       blk_dngrs_thng_mnfctr_yn  cltrl_hrtg_yn  bldng_code  \n",
       "0                           NaN            NaN           1  \n",
       "1                           NaN            NaN           0  \n",
       "2                           NaN            NaN           1  \n",
       "3                           NaN            NaN           1  \n",
       "4                           NaN            NaN           0  \n",
       "...                         ...            ...         ...  \n",
       "69049                       NaN            NaN           1  \n",
       "69050                       NaN            NaN           0  \n",
       "69051                       NaN            NaN           1  \n",
       "69052                       NaN            NaN           2  \n",
       "69053                       NaN            NaN           6  \n",
       "\n",
       "[69054 rows x 177 columns]"
      ]
     },
     "execution_count": 27,
     "metadata": {},
     "output_type": "execute_result"
    }
   ],
   "source": [
    "all_df"
   ]
  },
  {
   "cell_type": "markdown",
   "metadata": {},
   "source": [
    "### bldng_archrchr, bldng_cnt, bldng_ar, ttl_ar, lnd_ar"
   ]
  },
  {
   "cell_type": "code",
   "execution_count": 28,
   "metadata": {},
   "outputs": [
    {
     "name": "stdout",
     "output_type": "stream",
     "text": [
      "19\n"
     ]
    },
    {
     "data": {
      "text/plain": [
       "array(['블록구조', nan, '철근콘크리트구조', '일반목구조', '벽돌구조', '경량철골구조', '일반철골구조',\n",
       "       '철골콘크리트구조', '통나무구조', '강파이프구조', '목구조', '석구조', '조적구조', '기타강구조',\n",
       "       '철골철근콘크리트구조', '기타구조', '기타조적구조', '프리케스트콘크리트구조', '기타콘크리트구조'],\n",
       "      dtype=object)"
      ]
     },
     "execution_count": 28,
     "metadata": {},
     "output_type": "execute_result"
    }
   ],
   "source": [
    "print(len(all_df['bldng_archtctr'].unique()))  # nan 제외 18\n",
    "all_df['bldng_archtctr'].unique()"
   ]
  },
  {
   "cell_type": "code",
   "execution_count": 29,
   "metadata": {},
   "outputs": [
    {
     "data": {
      "text/html": [
       "<div>\n",
       "<style scoped>\n",
       "    .dataframe tbody tr th:only-of-type {\n",
       "        vertical-align: middle;\n",
       "    }\n",
       "\n",
       "    .dataframe tbody tr th {\n",
       "        vertical-align: top;\n",
       "    }\n",
       "\n",
       "    .dataframe thead th {\n",
       "        text-align: right;\n",
       "    }\n",
       "</style>\n",
       "<table border=\"1\" class=\"dataframe\">\n",
       "  <thead>\n",
       "    <tr style=\"text-align: right;\">\n",
       "      <th></th>\n",
       "      <th>bldng_archtctr</th>\n",
       "      <th>bldng_cnt</th>\n",
       "      <th>bldng_ar</th>\n",
       "      <th>ttl_ar</th>\n",
       "      <th>lnd_ar</th>\n",
       "    </tr>\n",
       "  </thead>\n",
       "  <tbody>\n",
       "    <tr>\n",
       "      <th>0</th>\n",
       "      <td>블록구조</td>\n",
       "      <td>3</td>\n",
       "      <td>69.42</td>\n",
       "      <td>69.42</td>\n",
       "      <td>0.0</td>\n",
       "    </tr>\n",
       "    <tr>\n",
       "      <th>1</th>\n",
       "      <td>NaN</td>\n",
       "      <td>3</td>\n",
       "      <td>46.29</td>\n",
       "      <td>46.29</td>\n",
       "      <td>0.0</td>\n",
       "    </tr>\n",
       "    <tr>\n",
       "      <th>2</th>\n",
       "      <td>철근콘크리트구조</td>\n",
       "      <td>1</td>\n",
       "      <td>583.80</td>\n",
       "      <td>2516.76</td>\n",
       "      <td>1446.0</td>\n",
       "    </tr>\n",
       "    <tr>\n",
       "      <th>3</th>\n",
       "      <td>일반목구조</td>\n",
       "      <td>2</td>\n",
       "      <td>48.92</td>\n",
       "      <td>48.92</td>\n",
       "      <td>0.0</td>\n",
       "    </tr>\n",
       "    <tr>\n",
       "      <th>4</th>\n",
       "      <td>NaN</td>\n",
       "      <td>2</td>\n",
       "      <td>0.00</td>\n",
       "      <td>0.00</td>\n",
       "      <td>0.0</td>\n",
       "    </tr>\n",
       "    <tr>\n",
       "      <th>...</th>\n",
       "      <td>...</td>\n",
       "      <td>...</td>\n",
       "      <td>...</td>\n",
       "      <td>...</td>\n",
       "      <td>...</td>\n",
       "    </tr>\n",
       "    <tr>\n",
       "      <th>69049</th>\n",
       "      <td>철근콘크리트구조</td>\n",
       "      <td>1</td>\n",
       "      <td>122.45</td>\n",
       "      <td>329.55</td>\n",
       "      <td>288.0</td>\n",
       "    </tr>\n",
       "    <tr>\n",
       "      <th>69050</th>\n",
       "      <td>NaN</td>\n",
       "      <td>4</td>\n",
       "      <td>52.89</td>\n",
       "      <td>52.89</td>\n",
       "      <td>0.0</td>\n",
       "    </tr>\n",
       "    <tr>\n",
       "      <th>69051</th>\n",
       "      <td>철근콘크리트구조</td>\n",
       "      <td>1</td>\n",
       "      <td>166.05</td>\n",
       "      <td>466.82</td>\n",
       "      <td>277.3</td>\n",
       "    </tr>\n",
       "    <tr>\n",
       "      <th>69052</th>\n",
       "      <td>경량철골구조</td>\n",
       "      <td>1</td>\n",
       "      <td>250.00</td>\n",
       "      <td>240.00</td>\n",
       "      <td>827.8</td>\n",
       "    </tr>\n",
       "    <tr>\n",
       "      <th>69053</th>\n",
       "      <td>철근콘크리트구조</td>\n",
       "      <td>2</td>\n",
       "      <td>2055.80</td>\n",
       "      <td>6169.88</td>\n",
       "      <td>3767.6</td>\n",
       "    </tr>\n",
       "  </tbody>\n",
       "</table>\n",
       "<p>69054 rows × 5 columns</p>\n",
       "</div>"
      ],
      "text/plain": [
       "      bldng_archtctr  bldng_cnt  bldng_ar   ttl_ar  lnd_ar\n",
       "0               블록구조          3     69.42    69.42     0.0\n",
       "1                NaN          3     46.29    46.29     0.0\n",
       "2           철근콘크리트구조          1    583.80  2516.76  1446.0\n",
       "3              일반목구조          2     48.92    48.92     0.0\n",
       "4                NaN          2      0.00     0.00     0.0\n",
       "...              ...        ...       ...      ...     ...\n",
       "69049       철근콘크리트구조          1    122.45   329.55   288.0\n",
       "69050            NaN          4     52.89    52.89     0.0\n",
       "69051       철근콘크리트구조          1    166.05   466.82   277.3\n",
       "69052         경량철골구조          1    250.00   240.00   827.8\n",
       "69053       철근콘크리트구조          2   2055.80  6169.88  3767.6\n",
       "\n",
       "[69054 rows x 5 columns]"
      ]
     },
     "execution_count": 29,
     "metadata": {},
     "output_type": "execute_result"
    }
   ],
   "source": [
    "all_df[['bldng_archtctr', 'bldng_cnt', 'bldng_ar', 'ttl_ar', 'lnd_ar']]"
   ]
  },
  {
   "cell_type": "code",
   "execution_count": 30,
   "metadata": {},
   "outputs": [
    {
     "data": {
      "text/plain": [
       "(29224, 0, 0, 0, 0)"
      ]
     },
     "execution_count": 30,
     "metadata": {},
     "output_type": "execute_result"
    }
   ],
   "source": [
    "all_df['bldng_archtctr'].isnull().sum(), all_df['bldng_cnt'].isnull().sum(), all_df['bldng_ar'].isnull().sum(), all_df['ttl_ar'].isnull().sum(), all_df['lnd_ar'].isnull().sum()"
   ]
  },
  {
   "cell_type": "code",
   "execution_count": 31,
   "metadata": {},
   "outputs": [],
   "source": [
    "# bldng_archtctr 에 none 값은 많아 제거하기 힘들다. num_code로 대체시 0으로 변환해보자.\n",
    "# 위 나머지 값에서는 NaN 값이 없지만 0이라는 이상치가 존재한다. 이것을 어떻게 처리할 것인가?"
   ]
  },
  {
   "cell_type": "code",
   "execution_count": 32,
   "metadata": {},
   "outputs": [
    {
     "data": {
      "text/plain": [
       "array([  3,   1,   2,   6,   8,   4,   9,   5,  20,   7,  12,  10,  14,\n",
       "        11,  26,  22,  17,  18,  19,  23,  29,  13,  15,  32,  25,  33,\n",
       "        64,  55,  43,  27,  16,  53,  21, 110,  44,  42,  40,  31,  59,\n",
       "        30,  36,  37,  68,  28,  41,  35, 167,  69,  51,  39, 115,  47,\n",
       "        38,  24,  85,  45, 125,  54,  50, 132, 174,  93, 223,  34, 111,\n",
       "        49, 705,  57,  99,  62, 138,  65, 113,  61, 133,  60,  46,  56,\n",
       "        63,  52,  48, 114,  83,  77,  94, 156, 148, 117, 210, 139, 122,\n",
       "       315,  71,  75, 321,  79])"
      ]
     },
     "execution_count": 32,
     "metadata": {},
     "output_type": "execute_result"
    }
   ],
   "source": [
    "# bldng_cnt에 0은 없다.\n",
    "all_df[\"bldng_cnt\"].unique() "
   ]
  },
  {
   "cell_type": "code",
   "execution_count": 33,
   "metadata": {},
   "outputs": [
    {
     "data": {
      "text/plain": [
       "9988"
      ]
     },
     "execution_count": 33,
     "metadata": {},
     "output_type": "execute_result"
    }
   ],
   "source": [
    "# bldng_ar == 0은 9988개\n",
    "len(all_df[all_df['bldng_ar'] == 0.0]['bldng_ar'])"
   ]
  },
  {
   "cell_type": "code",
   "execution_count": 34,
   "metadata": {},
   "outputs": [
    {
     "data": {
      "text/plain": [
       "8725"
      ]
     },
     "execution_count": 34,
     "metadata": {},
     "output_type": "execute_result"
    }
   ],
   "source": [
    "# ttl_ar == 0은 8725\n",
    "len(all_df[all_df['ttl_ar'] == 0.0])"
   ]
  },
  {
   "cell_type": "code",
   "execution_count": 35,
   "metadata": {},
   "outputs": [
    {
     "data": {
      "text/plain": [
       "27382"
      ]
     },
     "execution_count": 35,
     "metadata": {},
     "output_type": "execute_result"
    }
   ],
   "source": [
    "# lnd_ar == 0은 27382\n",
    "len(all_df[all_df['lnd_ar'] == 0.0])"
   ]
  },
  {
   "cell_type": "markdown",
   "metadata": {},
   "source": [
    "### tmprtr(온도(c))"
   ]
  },
  {
   "cell_type": "code",
   "execution_count": 36,
   "metadata": {},
   "outputs": [
    {
     "data": {
      "text/plain": [
       "count    69039.000000\n",
       "mean        14.175664\n",
       "std          9.725274\n",
       "min        -14.100000\n",
       "25%          6.300000\n",
       "50%         14.900000\n",
       "75%         22.000000\n",
       "max         38.100000\n",
       "Name: tmprtr, dtype: float64"
      ]
     },
     "execution_count": 36,
     "metadata": {},
     "output_type": "execute_result"
    }
   ],
   "source": [
    "all_df['tmprtr'].describe()"
   ]
  },
  {
   "cell_type": "code",
   "execution_count": 37,
   "metadata": {},
   "outputs": [
    {
     "data": {
      "text/plain": [
       "15"
      ]
     },
     "execution_count": 37,
     "metadata": {},
     "output_type": "execute_result"
    }
   ],
   "source": [
    "all_df['tmprtr'].isnull().sum()"
   ]
  },
  {
   "cell_type": "code",
   "execution_count": 38,
   "metadata": {},
   "outputs": [
    {
     "data": {
      "text/plain": [
       "<AxesSubplot:xlabel='tmprtr'>"
      ]
     },
     "execution_count": 38,
     "metadata": {},
     "output_type": "execute_result"
    },
    {
     "data": {
      "image/png": "[encoded data removed]",
      "text/plain": [
       "<Figure size 432x288 with 1 Axes>"
      ]
     },
     "metadata": {
      "needs_background": "light"
     },
     "output_type": "display_data"
    }
   ],
   "source": [
    "sns.distplot(all_df['tmprtr'])"
   ]
  },
  {
   "cell_type": "code",
   "execution_count": 39,
   "metadata": {},
   "outputs": [
    {
     "name": "stdout",
     "output_type": "stream",
     "text": [
      "Before number of nan value in \"tmprtr\": 15\n",
      "After number of nan value in \"tmprtr\": 0\n"
     ]
    }
   ],
   "source": [
    "# 15개의 NaN값을 평균으로 채운다.\n",
    "tmp_var = all_df['tmprtr']\n",
    "print('Before number of nan value in \"tmprtr\":', all_df['tmprtr'].isnull().sum())\n",
    "all_df['tmprtr'] = all_df['tmprtr'].fillna(all_df['tmprtr'].mean())\n",
    "print('After number of nan value in \"tmprtr\":', all_df['tmprtr'].isnull().sum())\n",
    "\n",
    "\n",
    "from sklearn.preprocessing import MinMaxScaler\n",
    "from sklearn.preprocessing import minmax_scale\n",
    "scaler = MinMaxScaler()\n",
    "all_df[\"ntmprtr\"] = minmax_scale(all_df['tmprtr'])"
   ]
  },
  {
   "cell_type": "markdown",
   "metadata": {},
   "source": [
    "### prcpttn (강수량) "
   ]
  },
  {
   "cell_type": "code",
   "execution_count": 40,
   "metadata": {},
   "outputs": [
    {
     "data": {
      "text/plain": [
       "62721"
      ]
     },
     "execution_count": 40,
     "metadata": {},
     "output_type": "execute_result"
    }
   ],
   "source": [
    "all_df[\"prcpttn\"].isnull().sum()"
   ]
  },
  {
   "cell_type": "code",
   "execution_count": 41,
   "metadata": {},
   "outputs": [
    {
     "data": {
      "text/plain": [
       "((69054, 178), 90.82891650013033)"
      ]
     },
     "execution_count": 41,
     "metadata": {},
     "output_type": "execute_result"
    }
   ],
   "source": [
    "all_df.shape, all_df[\"prcpttn\"].isnull().sum() / all_df.shape[0] * 100"
   ]
  },
  {
   "cell_type": "raw",
   "metadata": {},
   "source": [
    "90% 이상이 NaN이다. 제거하자"
   ]
  },
  {
   "cell_type": "code",
   "execution_count": 42,
   "metadata": {},
   "outputs": [],
   "source": [
    "del all_df['prcpttn']"
   ]
  },
  {
   "cell_type": "markdown",
   "metadata": {},
   "source": [
    "### wnd_spd (풍속)"
   ]
  },
  {
   "cell_type": "code",
   "execution_count": 43,
   "metadata": {},
   "outputs": [
    {
     "name": "stdout",
     "output_type": "stream",
     "text": [
      "Before number of nan value in \"wnd_spd\": 38\n",
      "After number of nan value in \"wnd_spd\": 0\n"
     ]
    }
   ],
   "source": [
    "print('Before number of nan value in \"wnd_spd\":', all_df[\"wnd_spd\"].isnull().sum())\n",
    "\n",
    "# 평균으로 풍속 대치\n",
    "all_df['wnd_spd'] = all_df['wnd_spd'].fillna(all_df['wnd_spd'].mean())\n",
    "print('After number of nan value in \"wnd_spd\":', all_df[\"wnd_spd\"].isnull().sum())\n",
    "\n",
    "all_df['wnd_spd'].isnull().sum()\n",
    "all_df['wnd_spd'] = minmax_scale(all_df['wnd_spd'])"
   ]
  },
  {
   "cell_type": "markdown",
   "metadata": {},
   "source": [
    "### wnd_drctn (풍향)"
   ]
  },
  {
   "cell_type": "code",
   "execution_count": 44,
   "metadata": {},
   "outputs": [
    {
     "name": "stdout",
     "output_type": "stream",
     "text": [
      "ratio of na in total data: 0.3432096620036493\n",
      "Before number of nan value in \"wnd_drctn\": 237\n",
      "After number of nan value in \"wnd_drctn\": 0\n"
     ]
    }
   ],
   "source": [
    "print(\"ratio of na in total data:\", all_df['wnd_drctn'].isnull().sum() / all_df.shape[0] * 100)\n",
    "\n",
    "# impute na value with mean of wnd_drctn\n",
    "print('Before number of nan value in \"wnd_drctn\":', all_df[\"wnd_drctn\"].isnull().sum())\n",
    "all_df['wnd_drctn'] = all_df['wnd_drctn'].fillna(all_df['wnd_drctn'].mean())\n",
    "\n",
    "print('After number of nan value in \"wnd_drctn\":', all_df[\"wnd_drctn\"].isnull().sum())\n",
    "all_df['wnd_drctn'] = minmax_scale(all_df['wnd_drctn'])"
   ]
  },
  {
   "cell_type": "markdown",
   "metadata": {},
   "source": [
    "### hmdt (습도)"
   ]
  },
  {
   "cell_type": "code",
   "execution_count": 45,
   "metadata": {},
   "outputs": [
    {
     "name": "stdout",
     "output_type": "stream",
     "text": [
      "ratio of na in total data: 0.03909983491180815\n",
      "Before number of nan value in \"hmdt\": 27\n",
      "After number of nan value in \"hmdt\": 0\n"
     ]
    }
   ],
   "source": [
    "print(\"ratio of na in total data:\", all_df['hmdt'].isnull().sum() / all_df.shape[0] * 100)\n",
    "\n",
    "# impute na value with mean of wnd_drctn\n",
    "print('Before number of nan value in \"hmdt\":', all_df[\"hmdt\"].isnull().sum())\n",
    "all_df['hmdt'] = all_df['hmdt'].fillna(all_df['hmdt'].mean())\n",
    "\n",
    "print('After number of nan value in \"hmdt\":', all_df[\"hmdt\"].isnull().sum())\n",
    "all_df['hmdt'] = minmax_scale(all_df['hmdt'])"
   ]
  },
  {
   "cell_type": "code",
   "execution_count": 46,
   "metadata": {},
   "outputs": [
    {
     "data": {
      "text/html": [
       "<div>\n",
       "<style scoped>\n",
       "    .dataframe tbody tr th:only-of-type {\n",
       "        vertical-align: middle;\n",
       "    }\n",
       "\n",
       "    .dataframe tbody tr th {\n",
       "        vertical-align: top;\n",
       "    }\n",
       "\n",
       "    .dataframe thead th {\n",
       "        text-align: right;\n",
       "    }\n",
       "</style>\n",
       "<table border=\"1\" class=\"dataframe\">\n",
       "  <thead>\n",
       "    <tr style=\"text-align: right;\">\n",
       "      <th></th>\n",
       "      <th>tmprtr</th>\n",
       "      <th>wnd_spd</th>\n",
       "      <th>wnd_drctn</th>\n",
       "    </tr>\n",
       "  </thead>\n",
       "  <tbody>\n",
       "    <tr>\n",
       "      <th>0</th>\n",
       "      <td>10.7</td>\n",
       "      <td>0.058824</td>\n",
       "      <td>0.555556</td>\n",
       "    </tr>\n",
       "    <tr>\n",
       "      <th>1</th>\n",
       "      <td>19.5</td>\n",
       "      <td>0.032680</td>\n",
       "      <td>0.055556</td>\n",
       "    </tr>\n",
       "    <tr>\n",
       "      <th>2</th>\n",
       "      <td>15.5</td>\n",
       "      <td>0.130719</td>\n",
       "      <td>0.250000</td>\n",
       "    </tr>\n",
       "    <tr>\n",
       "      <th>3</th>\n",
       "      <td>20.6</td>\n",
       "      <td>0.026144</td>\n",
       "      <td>0.000000</td>\n",
       "    </tr>\n",
       "    <tr>\n",
       "      <th>4</th>\n",
       "      <td>12.7</td>\n",
       "      <td>0.039216</td>\n",
       "      <td>1.000000</td>\n",
       "    </tr>\n",
       "    <tr>\n",
       "      <th>...</th>\n",
       "      <td>...</td>\n",
       "      <td>...</td>\n",
       "      <td>...</td>\n",
       "    </tr>\n",
       "    <tr>\n",
       "      <th>69049</th>\n",
       "      <td>20.3</td>\n",
       "      <td>0.169935</td>\n",
       "      <td>0.555556</td>\n",
       "    </tr>\n",
       "    <tr>\n",
       "      <th>69050</th>\n",
       "      <td>16.7</td>\n",
       "      <td>0.104575</td>\n",
       "      <td>0.305556</td>\n",
       "    </tr>\n",
       "    <tr>\n",
       "      <th>69051</th>\n",
       "      <td>23.9</td>\n",
       "      <td>0.241830</td>\n",
       "      <td>0.888889</td>\n",
       "    </tr>\n",
       "    <tr>\n",
       "      <th>69052</th>\n",
       "      <td>21.1</td>\n",
       "      <td>0.084967</td>\n",
       "      <td>0.305556</td>\n",
       "    </tr>\n",
       "    <tr>\n",
       "      <th>69053</th>\n",
       "      <td>26.6</td>\n",
       "      <td>0.052288</td>\n",
       "      <td>0.388889</td>\n",
       "    </tr>\n",
       "  </tbody>\n",
       "</table>\n",
       "<p>69054 rows × 3 columns</p>\n",
       "</div>"
      ],
      "text/plain": [
       "       tmprtr   wnd_spd  wnd_drctn\n",
       "0        10.7  0.058824   0.555556\n",
       "1        19.5  0.032680   0.055556\n",
       "2        15.5  0.130719   0.250000\n",
       "3        20.6  0.026144   0.000000\n",
       "4        12.7  0.039216   1.000000\n",
       "...       ...       ...        ...\n",
       "69049    20.3  0.169935   0.555556\n",
       "69050    16.7  0.104575   0.305556\n",
       "69051    23.9  0.241830   0.888889\n",
       "69052    21.1  0.084967   0.305556\n",
       "69053    26.6  0.052288   0.388889\n",
       "\n",
       "[69054 rows x 3 columns]"
      ]
     },
     "execution_count": 46,
     "metadata": {},
     "output_type": "execute_result"
    }
   ],
   "source": [
    "# 중간 확인\n",
    "all_df[['tmprtr', 'wnd_spd', 'wnd_drctn']]"
   ]
  },
  {
   "cell_type": "markdown",
   "metadata": {},
   "source": [
    "### ele_engry_us & gas_engry_us"
   ]
  },
  {
   "cell_type": "code",
   "execution_count": 47,
   "metadata": {},
   "outputs": [
    {
     "data": {
      "text/plain": [
       "29132"
      ]
     },
     "execution_count": 47,
     "metadata": {},
     "output_type": "execute_result"
    }
   ],
   "source": [
    "all_df['ele_engry_us_201401'].isnull().sum()"
   ]
  },
  {
   "cell_type": "code",
   "execution_count": 48,
   "metadata": {},
   "outputs": [
    {
     "ename": "KeyError",
     "evalue": "'gas_engry_us_'",
     "output_type": "error",
     "traceback": [
      "\u001b[0;31m---------------------------------------------------------------------------\u001b[0m",
      "\u001b[0;31mKeyError\u001b[0m                                  Traceback (most recent call last)",
      "\u001b[0;32m~/anaconda3/lib/python3.7/site-packages/pandas/core/indexes/base.py\u001b[0m in \u001b[0;36mget_loc\u001b[0;34m(self, key, method, tolerance)\u001b[0m\n\u001b[1;32m   2888\u001b[0m             \u001b[0;32mtry\u001b[0m\u001b[0;34m:\u001b[0m\u001b[0;34m\u001b[0m\u001b[0;34m\u001b[0m\u001b[0m\n\u001b[0;32m-> 2889\u001b[0;31m                 \u001b[0;32mreturn\u001b[0m \u001b[0mself\u001b[0m\u001b[0;34m.\u001b[0m\u001b[0m_engine\u001b[0m\u001b[0;34m.\u001b[0m\u001b[0mget_loc\u001b[0m\u001b[0;34m(\u001b[0m\u001b[0mcasted_key\u001b[0m\u001b[0;34m)\u001b[0m\u001b[0;34m\u001b[0m\u001b[0;34m\u001b[0m\u001b[0m\n\u001b[0m\u001b[1;32m   2890\u001b[0m             \u001b[0;32mexcept\u001b[0m \u001b[0mKeyError\u001b[0m \u001b[0;32mas\u001b[0m \u001b[0merr\u001b[0m\u001b[0;34m:\u001b[0m\u001b[0;34m\u001b[0m\u001b[0;34m\u001b[0m\u001b[0m\n",
      "\u001b[0;32mpandas/_libs/index.pyx\u001b[0m in \u001b[0;36mpandas._libs.index.IndexEngine.get_loc\u001b[0;34m()\u001b[0m\n",
      "\u001b[0;32mpandas/_libs/index.pyx\u001b[0m in \u001b[0;36mpandas._libs.index.IndexEngine.get_loc\u001b[0;34m()\u001b[0m\n",
      "\u001b[0;32mpandas/_libs/hashtable_class_helper.pxi\u001b[0m in \u001b[0;36mpandas._libs.hashtable.PyObjectHashTable.get_item\u001b[0;34m()\u001b[0m\n",
      "\u001b[0;32mpandas/_libs/hashtable_class_helper.pxi\u001b[0m in \u001b[0;36mpandas._libs.hashtable.PyObjectHashTable.get_item\u001b[0;34m()\u001b[0m\n",
      "\u001b[0;31mKeyError\u001b[0m: 'gas_engry_us_'",
      "\nThe above exception was the direct cause of the following exception:\n",
      "\u001b[0;31mKeyError\u001b[0m                                  Traceback (most recent call last)",
      "\u001b[0;32m<ipython-input-48-79b84b98920e>\u001b[0m in \u001b[0;36m<module>\u001b[0;34m\u001b[0m\n\u001b[0;32m----> 1\u001b[0;31m \u001b[0mall_df\u001b[0m\u001b[0;34m[\u001b[0m\u001b[0;34m'gas_engry_us_'\u001b[0m\u001b[0;34m]\u001b[0m\u001b[0;34m.\u001b[0m\u001b[0misnull\u001b[0m\u001b[0;34m(\u001b[0m\u001b[0;34m)\u001b[0m\u001b[0;34m.\u001b[0m\u001b[0msum\u001b[0m\u001b[0;34m(\u001b[0m\u001b[0;34m)\u001b[0m\u001b[0;34m\u001b[0m\u001b[0;34m\u001b[0m\u001b[0m\n\u001b[0m",
      "\u001b[0;32m~/anaconda3/lib/python3.7/site-packages/pandas/core/frame.py\u001b[0m in \u001b[0;36m__getitem__\u001b[0;34m(self, key)\u001b[0m\n\u001b[1;32m   2900\u001b[0m             \u001b[0;32mif\u001b[0m \u001b[0mself\u001b[0m\u001b[0;34m.\u001b[0m\u001b[0mcolumns\u001b[0m\u001b[0;34m.\u001b[0m\u001b[0mnlevels\u001b[0m \u001b[0;34m>\u001b[0m \u001b[0;36m1\u001b[0m\u001b[0;34m:\u001b[0m\u001b[0;34m\u001b[0m\u001b[0;34m\u001b[0m\u001b[0m\n\u001b[1;32m   2901\u001b[0m                 \u001b[0;32mreturn\u001b[0m \u001b[0mself\u001b[0m\u001b[0;34m.\u001b[0m\u001b[0m_getitem_multilevel\u001b[0m\u001b[0;34m(\u001b[0m\u001b[0mkey\u001b[0m\u001b[0;34m)\u001b[0m\u001b[0;34m\u001b[0m\u001b[0;34m\u001b[0m\u001b[0m\n\u001b[0;32m-> 2902\u001b[0;31m             \u001b[0mindexer\u001b[0m \u001b[0;34m=\u001b[0m \u001b[0mself\u001b[0m\u001b[0;34m.\u001b[0m\u001b[0mcolumns\u001b[0m\u001b[0;34m.\u001b[0m\u001b[0mget_loc\u001b[0m\u001b[0;34m(\u001b[0m\u001b[0mkey\u001b[0m\u001b[0;34m)\u001b[0m\u001b[0;34m\u001b[0m\u001b[0;34m\u001b[0m\u001b[0m\n\u001b[0m\u001b[1;32m   2903\u001b[0m             \u001b[0;32mif\u001b[0m \u001b[0mis_integer\u001b[0m\u001b[0;34m(\u001b[0m\u001b[0mindexer\u001b[0m\u001b[0;34m)\u001b[0m\u001b[0;34m:\u001b[0m\u001b[0;34m\u001b[0m\u001b[0;34m\u001b[0m\u001b[0m\n\u001b[1;32m   2904\u001b[0m                 \u001b[0mindexer\u001b[0m \u001b[0;34m=\u001b[0m \u001b[0;34m[\u001b[0m\u001b[0mindexer\u001b[0m\u001b[0;34m]\u001b[0m\u001b[0;34m\u001b[0m\u001b[0;34m\u001b[0m\u001b[0m\n",
      "\u001b[0;32m~/anaconda3/lib/python3.7/site-packages/pandas/core/indexes/base.py\u001b[0m in \u001b[0;36mget_loc\u001b[0;34m(self, key, method, tolerance)\u001b[0m\n\u001b[1;32m   2889\u001b[0m                 \u001b[0;32mreturn\u001b[0m \u001b[0mself\u001b[0m\u001b[0;34m.\u001b[0m\u001b[0m_engine\u001b[0m\u001b[0;34m.\u001b[0m\u001b[0mget_loc\u001b[0m\u001b[0;34m(\u001b[0m\u001b[0mcasted_key\u001b[0m\u001b[0;34m)\u001b[0m\u001b[0;34m\u001b[0m\u001b[0;34m\u001b[0m\u001b[0m\n\u001b[1;32m   2890\u001b[0m             \u001b[0;32mexcept\u001b[0m \u001b[0mKeyError\u001b[0m \u001b[0;32mas\u001b[0m \u001b[0merr\u001b[0m\u001b[0;34m:\u001b[0m\u001b[0;34m\u001b[0m\u001b[0;34m\u001b[0m\u001b[0m\n\u001b[0;32m-> 2891\u001b[0;31m                 \u001b[0;32mraise\u001b[0m \u001b[0mKeyError\u001b[0m\u001b[0;34m(\u001b[0m\u001b[0mkey\u001b[0m\u001b[0;34m)\u001b[0m \u001b[0;32mfrom\u001b[0m \u001b[0merr\u001b[0m\u001b[0;34m\u001b[0m\u001b[0;34m\u001b[0m\u001b[0m\n\u001b[0m\u001b[1;32m   2892\u001b[0m \u001b[0;34m\u001b[0m\u001b[0m\n\u001b[1;32m   2893\u001b[0m         \u001b[0;32mif\u001b[0m \u001b[0mtolerance\u001b[0m \u001b[0;32mis\u001b[0m \u001b[0;32mnot\u001b[0m \u001b[0;32mNone\u001b[0m\u001b[0;34m:\u001b[0m\u001b[0;34m\u001b[0m\u001b[0;34m\u001b[0m\u001b[0m\n",
      "\u001b[0;31mKeyError\u001b[0m: 'gas_engry_us_'"
     ]
    }
   ],
   "source": [
    "all_df['gas_engry_us_'].isnull().sum()"
   ]
  },
  {
   "cell_type": "code",
   "execution_count": 49,
   "metadata": {},
   "outputs": [
    {
     "name": "stdout",
     "output_type": "stream",
     "text": [
      "number of ele months: 60\n",
      "number of gas months: 60\n"
     ]
    }
   ],
   "source": [
    "import re\n",
    "\n",
    "col_list = all_df.columns\n",
    "ele_text = re.compile('^ele_engry_us_*')\n",
    "gas_text = re.compile('^gas_engry_us_*')\n",
    "\n",
    "\n",
    "ele_list = [ele for ele in col_list if ele_text.findall(ele)]\n",
    "gas_list = [gas for gas in col_list if gas_text.findall(gas)]\n",
    "\n",
    "\n",
    "print(\"number of ele months:\", len(ele_list))\n",
    "print(\"number of gas months:\", len(gas_list))\n",
    "\n",
    "# ele: 2014.01 ~ 12, 2015.01 ~ 12, 2016.01 ~ 12, 2017.01 ~ 12, 2018.01 ~ 12\n",
    "# gas: 2014.01 ~ 12, 2015.01 ~ 12, 2016.01 ~ 12, 2017.01 ~ 12, 2018.01 ~ 12\n",
    "\n"
   ]
  },
  {
   "cell_type": "code",
   "execution_count": 50,
   "metadata": {},
   "outputs": [
    {
     "data": {
      "text/html": [
       "<div>\n",
       "<style scoped>\n",
       "    .dataframe tbody tr th:only-of-type {\n",
       "        vertical-align: middle;\n",
       "    }\n",
       "\n",
       "    .dataframe tbody tr th {\n",
       "        vertical-align: top;\n",
       "    }\n",
       "\n",
       "    .dataframe thead th {\n",
       "        text-align: right;\n",
       "    }\n",
       "</style>\n",
       "<table border=\"1\" class=\"dataframe\">\n",
       "  <thead>\n",
       "    <tr style=\"text-align: right;\">\n",
       "      <th></th>\n",
       "      <th>ele_engry_us_201401</th>\n",
       "      <th>ele_engry_us_201402</th>\n",
       "      <th>ele_engry_us_201403</th>\n",
       "      <th>ele_engry_us_201404</th>\n",
       "      <th>ele_engry_us_201405</th>\n",
       "      <th>ele_engry_us_201406</th>\n",
       "      <th>ele_engry_us_201407</th>\n",
       "      <th>ele_engry_us_201408</th>\n",
       "      <th>ele_engry_us_201409</th>\n",
       "      <th>ele_engry_us_201410</th>\n",
       "      <th>...</th>\n",
       "      <th>ele_engry_us_201803</th>\n",
       "      <th>ele_engry_us_201804</th>\n",
       "      <th>ele_engry_us_201805</th>\n",
       "      <th>ele_engry_us_201806</th>\n",
       "      <th>ele_engry_us_201807</th>\n",
       "      <th>ele_engry_us_201808</th>\n",
       "      <th>ele_engry_us_201809</th>\n",
       "      <th>ele_engry_us_201810</th>\n",
       "      <th>ele_engry_us_201811</th>\n",
       "      <th>ele_engry_us_201812</th>\n",
       "    </tr>\n",
       "  </thead>\n",
       "  <tbody>\n",
       "    <tr>\n",
       "      <th>0</th>\n",
       "      <td>0.0</td>\n",
       "      <td>0.0</td>\n",
       "      <td>0.0</td>\n",
       "      <td>0.0</td>\n",
       "      <td>0.0</td>\n",
       "      <td>0.0</td>\n",
       "      <td>0.0</td>\n",
       "      <td>0.0</td>\n",
       "      <td>0.0</td>\n",
       "      <td>0.0</td>\n",
       "      <td>...</td>\n",
       "      <td>0.0</td>\n",
       "      <td>0.0</td>\n",
       "      <td>0.0</td>\n",
       "      <td>0.0</td>\n",
       "      <td>0.0</td>\n",
       "      <td>0.0</td>\n",
       "      <td>0.0</td>\n",
       "      <td>0.0</td>\n",
       "      <td>0.0</td>\n",
       "      <td>0.0</td>\n",
       "    </tr>\n",
       "    <tr>\n",
       "      <th>1</th>\n",
       "      <td>NaN</td>\n",
       "      <td>NaN</td>\n",
       "      <td>NaN</td>\n",
       "      <td>NaN</td>\n",
       "      <td>NaN</td>\n",
       "      <td>NaN</td>\n",
       "      <td>NaN</td>\n",
       "      <td>NaN</td>\n",
       "      <td>NaN</td>\n",
       "      <td>NaN</td>\n",
       "      <td>...</td>\n",
       "      <td>NaN</td>\n",
       "      <td>NaN</td>\n",
       "      <td>NaN</td>\n",
       "      <td>NaN</td>\n",
       "      <td>NaN</td>\n",
       "      <td>NaN</td>\n",
       "      <td>NaN</td>\n",
       "      <td>NaN</td>\n",
       "      <td>NaN</td>\n",
       "      <td>NaN</td>\n",
       "    </tr>\n",
       "    <tr>\n",
       "      <th>2</th>\n",
       "      <td>0.0</td>\n",
       "      <td>0.0</td>\n",
       "      <td>0.0</td>\n",
       "      <td>0.0</td>\n",
       "      <td>0.0</td>\n",
       "      <td>0.0</td>\n",
       "      <td>0.0</td>\n",
       "      <td>0.0</td>\n",
       "      <td>0.0</td>\n",
       "      <td>0.0</td>\n",
       "      <td>...</td>\n",
       "      <td>0.0</td>\n",
       "      <td>0.0</td>\n",
       "      <td>0.0</td>\n",
       "      <td>0.0</td>\n",
       "      <td>0.0</td>\n",
       "      <td>0.0</td>\n",
       "      <td>0.0</td>\n",
       "      <td>0.0</td>\n",
       "      <td>0.0</td>\n",
       "      <td>0.0</td>\n",
       "    </tr>\n",
       "    <tr>\n",
       "      <th>3</th>\n",
       "      <td>0.0</td>\n",
       "      <td>0.0</td>\n",
       "      <td>0.0</td>\n",
       "      <td>0.0</td>\n",
       "      <td>0.0</td>\n",
       "      <td>0.0</td>\n",
       "      <td>0.0</td>\n",
       "      <td>0.0</td>\n",
       "      <td>0.0</td>\n",
       "      <td>0.0</td>\n",
       "      <td>...</td>\n",
       "      <td>0.0</td>\n",
       "      <td>0.0</td>\n",
       "      <td>0.0</td>\n",
       "      <td>0.0</td>\n",
       "      <td>0.0</td>\n",
       "      <td>0.0</td>\n",
       "      <td>0.0</td>\n",
       "      <td>0.0</td>\n",
       "      <td>0.0</td>\n",
       "      <td>0.0</td>\n",
       "    </tr>\n",
       "    <tr>\n",
       "      <th>4</th>\n",
       "      <td>NaN</td>\n",
       "      <td>NaN</td>\n",
       "      <td>NaN</td>\n",
       "      <td>NaN</td>\n",
       "      <td>NaN</td>\n",
       "      <td>NaN</td>\n",
       "      <td>NaN</td>\n",
       "      <td>NaN</td>\n",
       "      <td>NaN</td>\n",
       "      <td>NaN</td>\n",
       "      <td>...</td>\n",
       "      <td>NaN</td>\n",
       "      <td>NaN</td>\n",
       "      <td>NaN</td>\n",
       "      <td>NaN</td>\n",
       "      <td>NaN</td>\n",
       "      <td>NaN</td>\n",
       "      <td>NaN</td>\n",
       "      <td>NaN</td>\n",
       "      <td>NaN</td>\n",
       "      <td>NaN</td>\n",
       "    </tr>\n",
       "    <tr>\n",
       "      <th>...</th>\n",
       "      <td>...</td>\n",
       "      <td>...</td>\n",
       "      <td>...</td>\n",
       "      <td>...</td>\n",
       "      <td>...</td>\n",
       "      <td>...</td>\n",
       "      <td>...</td>\n",
       "      <td>...</td>\n",
       "      <td>...</td>\n",
       "      <td>...</td>\n",
       "      <td>...</td>\n",
       "      <td>...</td>\n",
       "      <td>...</td>\n",
       "      <td>...</td>\n",
       "      <td>...</td>\n",
       "      <td>...</td>\n",
       "      <td>...</td>\n",
       "      <td>...</td>\n",
       "      <td>...</td>\n",
       "      <td>...</td>\n",
       "      <td>...</td>\n",
       "    </tr>\n",
       "    <tr>\n",
       "      <th>69049</th>\n",
       "      <td>0.0</td>\n",
       "      <td>0.0</td>\n",
       "      <td>0.0</td>\n",
       "      <td>0.0</td>\n",
       "      <td>0.0</td>\n",
       "      <td>0.0</td>\n",
       "      <td>0.0</td>\n",
       "      <td>0.0</td>\n",
       "      <td>0.0</td>\n",
       "      <td>0.0</td>\n",
       "      <td>...</td>\n",
       "      <td>0.0</td>\n",
       "      <td>0.0</td>\n",
       "      <td>0.0</td>\n",
       "      <td>0.0</td>\n",
       "      <td>0.0</td>\n",
       "      <td>0.0</td>\n",
       "      <td>0.0</td>\n",
       "      <td>0.0</td>\n",
       "      <td>0.0</td>\n",
       "      <td>0.0</td>\n",
       "    </tr>\n",
       "    <tr>\n",
       "      <th>69050</th>\n",
       "      <td>NaN</td>\n",
       "      <td>NaN</td>\n",
       "      <td>NaN</td>\n",
       "      <td>NaN</td>\n",
       "      <td>NaN</td>\n",
       "      <td>NaN</td>\n",
       "      <td>NaN</td>\n",
       "      <td>NaN</td>\n",
       "      <td>NaN</td>\n",
       "      <td>NaN</td>\n",
       "      <td>...</td>\n",
       "      <td>NaN</td>\n",
       "      <td>NaN</td>\n",
       "      <td>NaN</td>\n",
       "      <td>NaN</td>\n",
       "      <td>NaN</td>\n",
       "      <td>NaN</td>\n",
       "      <td>NaN</td>\n",
       "      <td>NaN</td>\n",
       "      <td>NaN</td>\n",
       "      <td>NaN</td>\n",
       "    </tr>\n",
       "    <tr>\n",
       "      <th>69051</th>\n",
       "      <td>0.0</td>\n",
       "      <td>0.0</td>\n",
       "      <td>0.0</td>\n",
       "      <td>0.0</td>\n",
       "      <td>0.0</td>\n",
       "      <td>0.0</td>\n",
       "      <td>0.0</td>\n",
       "      <td>0.0</td>\n",
       "      <td>0.0</td>\n",
       "      <td>0.0</td>\n",
       "      <td>...</td>\n",
       "      <td>0.0</td>\n",
       "      <td>0.0</td>\n",
       "      <td>0.0</td>\n",
       "      <td>0.0</td>\n",
       "      <td>0.0</td>\n",
       "      <td>0.0</td>\n",
       "      <td>0.0</td>\n",
       "      <td>0.0</td>\n",
       "      <td>0.0</td>\n",
       "      <td>0.0</td>\n",
       "    </tr>\n",
       "    <tr>\n",
       "      <th>69052</th>\n",
       "      <td>0.0</td>\n",
       "      <td>0.0</td>\n",
       "      <td>0.0</td>\n",
       "      <td>0.0</td>\n",
       "      <td>0.0</td>\n",
       "      <td>0.0</td>\n",
       "      <td>0.0</td>\n",
       "      <td>0.0</td>\n",
       "      <td>0.0</td>\n",
       "      <td>0.0</td>\n",
       "      <td>...</td>\n",
       "      <td>0.0</td>\n",
       "      <td>0.0</td>\n",
       "      <td>0.0</td>\n",
       "      <td>0.0</td>\n",
       "      <td>0.0</td>\n",
       "      <td>0.0</td>\n",
       "      <td>0.0</td>\n",
       "      <td>0.0</td>\n",
       "      <td>0.0</td>\n",
       "      <td>0.0</td>\n",
       "    </tr>\n",
       "    <tr>\n",
       "      <th>69053</th>\n",
       "      <td>0.0</td>\n",
       "      <td>0.0</td>\n",
       "      <td>0.0</td>\n",
       "      <td>0.0</td>\n",
       "      <td>0.0</td>\n",
       "      <td>0.0</td>\n",
       "      <td>0.0</td>\n",
       "      <td>0.0</td>\n",
       "      <td>0.0</td>\n",
       "      <td>0.0</td>\n",
       "      <td>...</td>\n",
       "      <td>660324.0</td>\n",
       "      <td>672532.0</td>\n",
       "      <td>587328.0</td>\n",
       "      <td>709380.0</td>\n",
       "      <td>767228.0</td>\n",
       "      <td>1101464.0</td>\n",
       "      <td>904512.0</td>\n",
       "      <td>671692.0</td>\n",
       "      <td>615552.0</td>\n",
       "      <td>653016.0</td>\n",
       "    </tr>\n",
       "  </tbody>\n",
       "</table>\n",
       "<p>69054 rows × 60 columns</p>\n",
       "</div>"
      ],
      "text/plain": [
       "       ele_engry_us_201401  ele_engry_us_201402  ele_engry_us_201403  \\\n",
       "0                      0.0                  0.0                  0.0   \n",
       "1                      NaN                  NaN                  NaN   \n",
       "2                      0.0                  0.0                  0.0   \n",
       "3                      0.0                  0.0                  0.0   \n",
       "4                      NaN                  NaN                  NaN   \n",
       "...                    ...                  ...                  ...   \n",
       "69049                  0.0                  0.0                  0.0   \n",
       "69050                  NaN                  NaN                  NaN   \n",
       "69051                  0.0                  0.0                  0.0   \n",
       "69052                  0.0                  0.0                  0.0   \n",
       "69053                  0.0                  0.0                  0.0   \n",
       "\n",
       "       ele_engry_us_201404  ele_engry_us_201405  ele_engry_us_201406  \\\n",
       "0                      0.0                  0.0                  0.0   \n",
       "1                      NaN                  NaN                  NaN   \n",
       "2                      0.0                  0.0                  0.0   \n",
       "3                      0.0                  0.0                  0.0   \n",
       "4                      NaN                  NaN                  NaN   \n",
       "...                    ...                  ...                  ...   \n",
       "69049                  0.0                  0.0                  0.0   \n",
       "69050                  NaN                  NaN                  NaN   \n",
       "69051                  0.0                  0.0                  0.0   \n",
       "69052                  0.0                  0.0                  0.0   \n",
       "69053                  0.0                  0.0                  0.0   \n",
       "\n",
       "       ele_engry_us_201407  ele_engry_us_201408  ele_engry_us_201409  \\\n",
       "0                      0.0                  0.0                  0.0   \n",
       "1                      NaN                  NaN                  NaN   \n",
       "2                      0.0                  0.0                  0.0   \n",
       "3                      0.0                  0.0                  0.0   \n",
       "4                      NaN                  NaN                  NaN   \n",
       "...                    ...                  ...                  ...   \n",
       "69049                  0.0                  0.0                  0.0   \n",
       "69050                  NaN                  NaN                  NaN   \n",
       "69051                  0.0                  0.0                  0.0   \n",
       "69052                  0.0                  0.0                  0.0   \n",
       "69053                  0.0                  0.0                  0.0   \n",
       "\n",
       "       ele_engry_us_201410  ...  ele_engry_us_201803  ele_engry_us_201804  \\\n",
       "0                      0.0  ...                  0.0                  0.0   \n",
       "1                      NaN  ...                  NaN                  NaN   \n",
       "2                      0.0  ...                  0.0                  0.0   \n",
       "3                      0.0  ...                  0.0                  0.0   \n",
       "4                      NaN  ...                  NaN                  NaN   \n",
       "...                    ...  ...                  ...                  ...   \n",
       "69049                  0.0  ...                  0.0                  0.0   \n",
       "69050                  NaN  ...                  NaN                  NaN   \n",
       "69051                  0.0  ...                  0.0                  0.0   \n",
       "69052                  0.0  ...                  0.0                  0.0   \n",
       "69053                  0.0  ...             660324.0             672532.0   \n",
       "\n",
       "       ele_engry_us_201805  ele_engry_us_201806  ele_engry_us_201807  \\\n",
       "0                      0.0                  0.0                  0.0   \n",
       "1                      NaN                  NaN                  NaN   \n",
       "2                      0.0                  0.0                  0.0   \n",
       "3                      0.0                  0.0                  0.0   \n",
       "4                      NaN                  NaN                  NaN   \n",
       "...                    ...                  ...                  ...   \n",
       "69049                  0.0                  0.0                  0.0   \n",
       "69050                  NaN                  NaN                  NaN   \n",
       "69051                  0.0                  0.0                  0.0   \n",
       "69052                  0.0                  0.0                  0.0   \n",
       "69053             587328.0             709380.0             767228.0   \n",
       "\n",
       "       ele_engry_us_201808  ele_engry_us_201809  ele_engry_us_201810  \\\n",
       "0                      0.0                  0.0                  0.0   \n",
       "1                      NaN                  NaN                  NaN   \n",
       "2                      0.0                  0.0                  0.0   \n",
       "3                      0.0                  0.0                  0.0   \n",
       "4                      NaN                  NaN                  NaN   \n",
       "...                    ...                  ...                  ...   \n",
       "69049                  0.0                  0.0                  0.0   \n",
       "69050                  NaN                  NaN                  NaN   \n",
       "69051                  0.0                  0.0                  0.0   \n",
       "69052                  0.0                  0.0                  0.0   \n",
       "69053            1101464.0             904512.0             671692.0   \n",
       "\n",
       "       ele_engry_us_201811  ele_engry_us_201812  \n",
       "0                      0.0                  0.0  \n",
       "1                      NaN                  NaN  \n",
       "2                      0.0                  0.0  \n",
       "3                      0.0                  0.0  \n",
       "4                      NaN                  NaN  \n",
       "...                    ...                  ...  \n",
       "69049                  0.0                  0.0  \n",
       "69050                  NaN                  NaN  \n",
       "69051                  0.0                  0.0  \n",
       "69052                  0.0                  0.0  \n",
       "69053             615552.0             653016.0  \n",
       "\n",
       "[69054 rows x 60 columns]"
      ]
     },
     "execution_count": 50,
     "metadata": {},
     "output_type": "execute_result"
    }
   ],
   "source": [
    "all_df[ele_list]"
   ]
  },
  {
   "cell_type": "code",
   "execution_count": 51,
   "metadata": {},
   "outputs": [],
   "source": [
    "monthly_avg_ele = [all_df[mon].mean() for mon in ele_list]"
   ]
  },
  {
   "cell_type": "code",
   "execution_count": 107,
   "metadata": {},
   "outputs": [],
   "source": [
    "avg_ele_2014 = monthly_avg_ele[0:12]\n",
    "avg_ele_2015 = monthly_avg_ele[12:24]\n",
    "avg_ele_2016 = monthly_avg_ele[24:36]\n",
    "avg_ele_2017 = monthly_avg_ele[36:48]\n",
    "avg_ele_2018 = monthly_avg_ele[48:]"
   ]
  },
  {
   "cell_type": "code",
   "execution_count": 113,
   "metadata": {},
   "outputs": [
    {
     "data": {
      "image/png": "[encoded data removed]",
      "text/plain": [
       "<Figure size 432x288 with 5 Axes>"
      ]
     },
     "metadata": {
      "needs_background": "light"
     },
     "output_type": "display_data"
    }
   ],
   "source": [
    "# 분포를 확인해보자\n",
    "\n",
    "fig, axes = plt.subplots(1,5)"
   ]
  },
  {
   "cell_type": "code",
   "execution_count": null,
   "metadata": {},
   "outputs": [],
   "source": []
  }
 ],
 "metadata": {
  "kernelspec": {
   "display_name": "Python 3",
   "language": "python",
   "name": "python3"
  },
  "language_info": {
   "codemirror_mode": {
    "name": "ipython",
    "version": 3
   },
   "file_extension": ".py",
   "mimetype": "text/x-python",
   "name": "python",
   "nbconvert_exporter": "python",
   "pygments_lexer": "ipython3",
   "version": "3.8.3"
  }
 },
 "nbformat": 4,
 "nbformat_minor": 4
}
